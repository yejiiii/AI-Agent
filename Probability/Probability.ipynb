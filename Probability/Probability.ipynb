{
 "cells": [
  {
   "cell_type": "markdown",
   "metadata": {},
   "source": [
    "# Print probability"
   ]
  },
  {
   "cell_type": "code",
   "execution_count": 1,
   "metadata": {},
   "outputs": [],
   "source": [
    "def printProb(value):\n",
    "    # Print probability percent rounded to three decimal place\n",
    "    print(str(round(value * 100, 2)) + '%')"
   ]
  },
  {
   "cell_type": "markdown",
   "metadata": {},
   "source": [
    "# Calculating Probability\n",
    "- Let's think about a deck of playing cards\n",
    "![cards](./cards.png)"
   ]
  },
  {
   "cell_type": "markdown",
   "metadata": {},
   "source": [
    "## Probability of aces"
   ]
  },
  {
   "cell_type": "code",
   "execution_count": 2,
   "metadata": {},
   "outputs": [
    {
     "name": "stdout",
     "output_type": "stream",
     "text": [
      "7.69%\n"
     ]
    }
   ],
   "source": [
    "# Sample Space\n",
    "cards = 52\n",
    "\n",
    "# Outcomes\n",
    "aces = 4\n",
    "\n",
    "# Divide possible outcomes by the sample set\n",
    "aceProbability = aces / cards\n",
    "\n",
    "# Print probability rounded to two decimal places\n",
    "printProb(aceProbability)"
   ]
  },
  {
   "cell_type": "markdown",
   "metadata": {},
   "source": [
    "## Function that returns probability percent"
   ]
  },
  {
   "cell_type": "code",
   "execution_count": 3,
   "metadata": {},
   "outputs": [],
   "source": [
    "def event_probability(event_outcomes, sample_space):\n",
    "    probability = (event_outcomes / sample_space)\n",
    "    return probability"
   ]
  },
  {
   "cell_type": "markdown",
   "metadata": {},
   "source": [
    "## Probabilities"
   ]
  },
  {
   "cell_type": "code",
   "execution_count": 4,
   "metadata": {},
   "outputs": [
    {
     "name": "stdout",
     "output_type": "stream",
     "text": [
      "25.0%\n",
      "23.08%\n",
      "1.92%\n"
     ]
    }
   ],
   "source": [
    "# Sample Space\n",
    "cards = 52\n",
    "\n",
    "# Determine the probability of drawing a heart\n",
    "hearts = 13\n",
    "heart_probability = event_probability(hearts, cards)\n",
    "\n",
    "# Determine the probability of drawing a face card\n",
    "face_cards = 12\n",
    "face_card_probability = event_probability(face_cards, cards)\n",
    "\n",
    "# Determine the probability of drawing the queen of hearts\n",
    "queen_of_hearts = 1\n",
    "queen_of_hearts_probability = event_probability(queen_of_hearts, cards)\n",
    "\n",
    "# Print each probability\n",
    "printProb(heart_probability)\n",
    "printProb(face_card_probability)\n",
    "printProb(queen_of_hearts_probability)"
   ]
  },
  {
   "cell_type": "markdown",
   "metadata": {},
   "source": [
    "# Simple Exercise"
   ]
  },
  {
   "cell_type": "code",
   "execution_count": 5,
   "metadata": {},
   "outputs": [],
   "source": [
    "# Sample Space\n",
    "deck = {\n",
    "    'cards': 52,\n",
    "    'spades': 13,\n",
    "    'hearts': 13,\n",
    "    'diamonds': 13,\n",
    "    'clubes': 13\n",
    "}"
   ]
  },
  {
   "cell_type": "code",
   "execution_count": 6,
   "metadata": {},
   "outputs": [],
   "source": [
    "def event_probability(event_outcomes, sample_space):\n",
    "    probability = (event_outcomes / sample_space)\n",
    "    return probability"
   ]
  },
  {
   "cell_type": "markdown",
   "metadata": {},
   "source": [
    "## Example of Random Sampling with Replacement"
   ]
  },
  {
   "cell_type": "code",
   "execution_count": 7,
   "metadata": {},
   "outputs": [
    {
     "name": "stdout",
     "output_type": "stream",
     "text": [
      "25.0%\n",
      "25.0%\n",
      "25.0%\n",
      "25.0%\n",
      "25.0%\n",
      "25.0%\n"
     ]
    }
   ],
   "source": [
    "# Probability of drawing spade\n",
    "printProb(event_probability(deck['spades'], deck['cards']))\n",
    "printProb(event_probability(deck['spades'], deck['cards']))\n",
    "printProb(event_probability(deck['spades'], deck['cards']))\n",
    "# Probability of drawing spade\n",
    "printProb(event_probability(deck['hearts'], deck['cards']))\n",
    "printProb(event_probability(deck['hearts'], deck['cards']))\n",
    "printProb(event_probability(deck['hearts'], deck['cards']))"
   ]
  },
  {
   "cell_type": "markdown",
   "metadata": {},
   "source": [
    "## Example of Random Sampling without Replacement"
   ]
  },
  {
   "cell_type": "code",
   "execution_count": 8,
   "metadata": {},
   "outputs": [],
   "source": [
    "# returns the probability of drawing the card then draw from the deck\n",
    "def draw(card, deck):\n",
    "    #fill the (1)\n",
    "    (1)\n",
    "    return prob"
   ]
  },
  {
   "cell_type": "code",
   "execution_count": 9,
   "metadata": {},
   "outputs": [
    {
     "name": "stdout",
     "output_type": "stream",
     "text": [
      "25.0%\n",
      "23.53%\n",
      "22.0%\n",
      "26.53%\n",
      "25.0%\n",
      "23.4%\n"
     ]
    }
   ],
   "source": [
    "# Print probabilities\n",
    "printProb(draw('spades', deck))\n",
    "printProb(draw('spades', deck))\n",
    "printProb(draw('spades', deck))\n",
    "printProb(draw('hearts', deck))\n",
    "printProb(draw('hearts', deck))\n",
    "printProb(draw('hearts', deck))"
   ]
  }
 ],
 "metadata": {
  "kernelspec": {
   "display_name": "Python 3",
   "language": "python",
   "name": "python3"
  },
  "language_info": {
   "codemirror_mode": {
    "name": "ipython",
    "version": 3
   },
   "file_extension": ".py",
   "mimetype": "text/x-python",
   "name": "python",
   "nbconvert_exporter": "python",
   "pygments_lexer": "ipython3",
   "version": "3.5.4"
  }
 },
 "nbformat": 4,
 "nbformat_minor": 2
}
