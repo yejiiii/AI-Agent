{
 "cells": [
  {
   "cell_type": "markdown",
   "metadata": {},
   "source": [
    "## NUMPY"
   ]
  },
  {
   "cell_type": "code",
   "execution_count": 7,
   "metadata": {},
   "outputs": [
    {
     "name": "stdout",
     "output_type": "stream",
     "text": [
      "Load numpy\n"
     ]
    }
   ],
   "source": [
    "import numpy as np\n",
    "print(\"Load numpy\")"
   ]
  },
  {
   "cell_type": "code",
   "execution_count": 8,
   "metadata": {},
   "outputs": [],
   "source": [
    "def print_np(x):\n",
    "    print(\"Type is %s\" % (type(x)))\n",
    "    print(\"Shape is %s\" % (x.shape,))\n",
    "    print(\"Values are \\n%s\" %(x))"
   ]
  },
  {
   "cell_type": "code",
   "execution_count": 9,
   "metadata": {},
   "outputs": [
    {
     "name": "stdout",
     "output_type": "stream",
     "text": [
      "Type is <class 'numpy.ndarray'>\n",
      "Shape is (3,)\n",
      "Values are \n",
      "[1 2 3]\n"
     ]
    }
   ],
   "source": [
    "x=np.array([1,2,3])\n",
    "print_np(x)"
   ]
  },
  {
   "cell_type": "code",
   "execution_count": 10,
   "metadata": {},
   "outputs": [
    {
     "name": "stdout",
     "output_type": "stream",
     "text": [
      "Type is <class 'numpy.ndarray'>\n",
      "Shape is (3,)\n",
      "Values are \n",
      "[5 2 3]\n"
     ]
    }
   ],
   "source": [
    "x[0]=5\n",
    "print_np(x)"
   ]
  },
  {
   "cell_type": "code",
   "execution_count": 11,
   "metadata": {},
   "outputs": [
    {
     "name": "stdout",
     "output_type": "stream",
     "text": [
      "Type is <class 'numpy.ndarray'>\n",
      "Shape is (2, 3)\n",
      "Values are \n",
      "[[1 2 3]\n",
      " [4 5 6]]\n"
     ]
    }
   ],
   "source": [
    "y=np.array([[1,2,3],[4,5,6]])\n",
    "print_np(y)"
   ]
  },
  {
   "cell_type": "code",
   "execution_count": 12,
   "metadata": {},
   "outputs": [
    {
     "name": "stdout",
     "output_type": "stream",
     "text": [
      "Type is <class 'numpy.ndarray'>\n",
      "Shape is (3, 2)\n",
      "Values are \n",
      "[[0. 0.]\n",
      " [0. 0.]\n",
      " [0. 0.]]\n"
     ]
    }
   ],
   "source": [
    "a=np.zeros((3,2))\n",
    "print_np(a)"
   ]
  },
  {
   "cell_type": "code",
   "execution_count": 13,
   "metadata": {},
   "outputs": [
    {
     "name": "stdout",
     "output_type": "stream",
     "text": [
      "Type is <class 'numpy.ndarray'>\n",
      "Shape is (1, 2)\n",
      "Values are \n",
      "[[1. 1.]]\n"
     ]
    }
   ],
   "source": [
    "b=np.ones((1,2))\n",
    "print_np(b)"
   ]
  },
  {
   "cell_type": "code",
   "execution_count": 14,
   "metadata": {},
   "outputs": [
    {
     "name": "stdout",
     "output_type": "stream",
     "text": [
      "Type is <class 'numpy.ndarray'>\n",
      "Shape is (2, 2)\n",
      "Values are \n",
      "[[1. 0.]\n",
      " [0. 1.]]\n"
     ]
    }
   ],
   "source": [
    "c=np.eye(2,2) # 단위행렬은 (( )) 말고 ()\n",
    "print_np(c)"
   ]
  },
  {
   "cell_type": "code",
   "execution_count": 15,
   "metadata": {},
   "outputs": [
    {
     "name": "stdout",
     "output_type": "stream",
     "text": [
      "Type is <class 'numpy.ndarray'>\n",
      "Shape is (2, 2)\n",
      "Values are \n",
      "[[0.15710714 0.29519476]\n",
      " [0.93757897 0.46306907]]\n"
     ]
    }
   ],
   "source": [
    "d=np.random.random((2,2))\n",
    "print_np(d)"
   ]
  },
  {
   "cell_type": "code",
   "execution_count": 16,
   "metadata": {},
   "outputs": [
    {
     "name": "stdout",
     "output_type": "stream",
     "text": [
      "Type is <class 'numpy.ndarray'>\n",
      "Shape is (1, 10)\n",
      "Values are \n",
      "[[ 0.21978807 -0.52197989  0.29280568  0.72655094  1.40305242 -0.3702191\n",
      "   0.74233142 -1.46261298  1.12817545 -0.43621146]]\n"
     ]
    }
   ],
   "source": [
    "e=np.random.randn(1,10)\n",
    "print_np(e)"
   ]
  },
  {
   "cell_type": "code",
   "execution_count": 17,
   "metadata": {},
   "outputs": [
    {
     "name": "stdout",
     "output_type": "stream",
     "text": [
      "Type is <class 'numpy.ndarray'>\n",
      "Shape is (3, 4)\n",
      "Values are \n",
      "[[ 1  2  3  4]\n",
      " [ 4  5  7  8]\n",
      " [ 9 10 11 12]]\n",
      "Type is <class 'numpy.ndarray'>\n",
      "Shape is (2, 2)\n",
      "Values are \n",
      "[[2 3]\n",
      " [5 7]]\n"
     ]
    }
   ],
   "source": [
    "a=np.array([[1,2,3,4],[4,5,7,8],[9,10,11,12]])\n",
    "print_np(a)\n",
    "\n",
    "b=a[:2,1:3] #np.array column end +1\n",
    "print_np(b)"
   ]
  },
  {
   "cell_type": "code",
   "execution_count": 18,
   "metadata": {},
   "outputs": [
    {
     "name": "stdout",
     "output_type": "stream",
     "text": [
      "Type is <class 'numpy.ndarray'>\n",
      "Shape is (3, 2)\n",
      "Values are \n",
      "[[1 2]\n",
      " [3 4]\n",
      " [5 6]]\n",
      "Type is <class 'numpy.ndarray'>\n",
      "Shape is (3,)\n",
      "Values are \n",
      "[1 4 5]\n",
      "Type is <class 'numpy.ndarray'>\n",
      "Shape is (3,)\n",
      "Values are \n",
      "[1 4 5]\n"
     ]
    }
   ],
   "source": [
    "a=np.array([[1,2],[3,4],[5,6]])\n",
    "print_np(a)\n",
    "\n",
    "b=a[[0,1,2],[0,1,0]]\n",
    "print_np(b)\n",
    "\n",
    "c=np.array([a[0,0],a[1,1],a[2,0]])\n",
    "print_np(c)"
   ]
  },
  {
   "cell_type": "code",
   "execution_count": 19,
   "metadata": {},
   "outputs": [
    {
     "name": "stdout",
     "output_type": "stream",
     "text": [
      "Type is <class 'numpy.ndarray'>\n",
      "Shape is (2,)\n",
      "Values are \n",
      "[1 2]\n",
      "Type is <class 'numpy.ndarray'>\n",
      "Shape is (2,)\n",
      "Values are \n",
      "[1. 2.]\n",
      "Type is <class 'numpy.ndarray'>\n",
      "Shape is (2,)\n",
      "Values are \n",
      "[1 2]\n"
     ]
    }
   ],
   "source": [
    "x=np.array([1,2])\n",
    "y=np.array([1.0,2.0])\n",
    "z=np.array([1,2],dtype=np.int64)\n",
    "\n",
    "print_np(x)\n",
    "print_np(y)\n",
    "print_np(z)"
   ]
  },
  {
   "cell_type": "code",
   "execution_count": 20,
   "metadata": {},
   "outputs": [
    {
     "name": "stdout",
     "output_type": "stream",
     "text": [
      "Type is <class 'numpy.ndarray'>\n",
      "Shape is (2, 2)\n",
      "Values are \n",
      "[[1 2]\n",
      " [3 4]]\n",
      "Type is <class 'numpy.ndarray'>\n",
      "Shape is (2, 2)\n",
      "Values are \n",
      "[[5 6]\n",
      " [7 8]]\n",
      "\n",
      "--------x+y--------\n",
      "[[ 6  8]\n",
      " [10 12]]\n",
      "[[ 6  8]\n",
      " [10 12]]\n",
      "\n",
      "--------x-y--------\n",
      "[[-4 -4]\n",
      " [-4 -4]]\n",
      "[[-4 -4]\n",
      " [-4 -4]]\n",
      "\n",
      "--------x*y--------\n",
      "[[ 5 12]\n",
      " [21 32]]\n",
      "[[ 5 12]\n",
      " [21 32]]\n",
      "\n",
      "--------x+y--------\n",
      "[[0.2        0.33333333]\n",
      " [0.42857143 0.5       ]]\n",
      "[[0.2        0.33333333]\n",
      " [0.42857143 0.5       ]]\n"
     ]
    }
   ],
   "source": [
    "x=np.array([[1,2],[3,4]])\n",
    "y=np.array([[5,6],[7,8]])\n",
    "\n",
    "print_np(x)\n",
    "print_np(y)\n",
    "\n",
    "\n",
    "print(\"\\n--------x+y--------\")\n",
    "print(x+y)\n",
    "print(np.add(x,y))\n",
    "\n",
    "print(\"\\n--------x-y--------\")\n",
    "print(x-y)\n",
    "print(np.subtract(x,y))\n",
    "\n",
    "\n",
    "print(\"\\n--------x*y--------\")\n",
    "print(x*y)\n",
    "print(np.multiply(x,y))\n",
    "\n",
    "print(\"\\n--------x+y--------\")\n",
    "print(x/y)\n",
    "print(np.divide(x,y))"
   ]
  },
  {
   "cell_type": "code",
   "execution_count": 21,
   "metadata": {},
   "outputs": [
    {
     "name": "stdout",
     "output_type": "stream",
     "text": [
      "[[1.         1.41421356]\n",
      " [1.73205081 2.        ]]\n"
     ]
    }
   ],
   "source": [
    "print(np.sqrt(x))"
   ]
  },
  {
   "cell_type": "code",
   "execution_count": 22,
   "metadata": {},
   "outputs": [
    {
     "name": "stdout",
     "output_type": "stream",
     "text": [
      "Type is <class 'numpy.ndarray'>\n",
      "Shape is (2, 2)\n",
      "Values are \n",
      "[[1 2]\n",
      " [3 4]]\n",
      "Type is <class 'numpy.ndarray'>\n",
      "Shape is (2, 2)\n",
      "Values are \n",
      "[[5 6]\n",
      " [7 8]]\n",
      "Type is <class 'numpy.ndarray'>\n",
      "Shape is (2,)\n",
      "Values are \n",
      "[ 9 10]\n",
      "Type is <class 'numpy.ndarray'>\n",
      "Shape is (2,)\n",
      "Values are \n",
      "[11 12]\n",
      "v.dot(w) 219\n",
      "219\n",
      "[29 67]\n",
      "[29 67]\n",
      "[[19 22]\n",
      " [43 50]]\n",
      "[[19 22]\n",
      " [43 50]]\n"
     ]
    }
   ],
   "source": [
    "x=np.array([[1,2],[3,4]])\n",
    "y=np.array([[5,6],[7,8]])\n",
    "v=np.array([9,10])\n",
    "w=np.array([11,12])\n",
    "\n",
    "print_np(x)\n",
    "print_np(y)\n",
    "print_np(v)\n",
    "print_np(w)\n",
    "\n",
    "print(\"v.dot(w)\",v.dot(w)) # dot은 내적임 \n",
    "print(np.dot(v,w))\n",
    "\n",
    "print(x.dot(v))\n",
    "print(np.dot(x,v))\n",
    "\n",
    "print(x.dot(y))\n",
    "print(np.dot(x,y))"
   ]
  },
  {
   "cell_type": "code",
   "execution_count": 23,
   "metadata": {},
   "outputs": [
    {
     "name": "stdout",
     "output_type": "stream",
     "text": [
      "Type is <class 'numpy.ndarray'>\n",
      "Shape is (2, 2)\n",
      "Values are \n",
      "[[1 2]\n",
      " [3 4]]\n",
      "\n",
      "\n",
      "[[1 2]\n",
      " [3 4]]\n",
      "[[1 3]\n",
      " [2 4]]\n",
      "10\n",
      "열 더하기 [4 6]\n",
      "행 더하기 [3 7]\n"
     ]
    }
   ],
   "source": [
    "x=np.array([[1,2],[3,4]])\n",
    "print_np(x)\n",
    "print(\"\\n\")\n",
    "print(x)\n",
    "print(x.T) ## 전치행렬은 이차원 일때만 가능\n",
    "\n",
    "print(np.sum(x))\n",
    "print(\"열 더하기\",np.sum(x,axis=0))\n",
    "print(\"행 더하기\",np.sum(x,axis=1))\n"
   ]
  },
  {
   "cell_type": "code",
   "execution_count": 24,
   "metadata": {},
   "outputs": [
    {
     "name": "stdout",
     "output_type": "stream",
     "text": [
      "[[1 2]\n",
      " [3 4]]\n",
      "[[1 3]\n",
      " [2 4]]\n"
     ]
    }
   ],
   "source": [
    "print(x)\n",
    "print(x.T)"
   ]
  },
  {
   "cell_type": "code",
   "execution_count": 25,
   "metadata": {},
   "outputs": [
    {
     "name": "stdout",
     "output_type": "stream",
     "text": [
      "[1 2 3]\n",
      "[1 2 3]\n"
     ]
    }
   ],
   "source": [
    "v=np.array([1,2,3])\n",
    "print(v)\n",
    "print(v.T)"
   ]
  },
  {
   "cell_type": "code",
   "execution_count": 26,
   "metadata": {},
   "outputs": [
    {
     "name": "stdout",
     "output_type": "stream",
     "text": [
      "[[1 2 3]]\n",
      "[[1]\n",
      " [2]\n",
      " [3]]\n"
     ]
    }
   ],
   "source": [
    "v=np.array([[1,2,3]])\n",
    "print(v)\n",
    "print(v.T)"
   ]
  },
  {
   "cell_type": "markdown",
   "metadata": {},
   "source": [
    "## Matplotlib"
   ]
  },
  {
   "cell_type": "code",
   "execution_count": 29,
   "metadata": {},
   "outputs": [
    {
     "name": "stdout",
     "output_type": "stream",
     "text": [
      "Load numpy & matplotlib\n"
     ]
    }
   ],
   "source": [
    "import numpy as np\n",
    "import matplotlib.pyplot as plt\n",
    "import pandas as pd\n",
    "\n",
    "print(\"Load numpy & matplotlib\")"
   ]
  },
  {
   "cell_type": "code",
   "execution_count": 35,
   "metadata": {},
   "outputs": [
    {
     "data": {
      "text/plain": [
       "[<matplotlib.lines.Line2D at 0x25b82587e80>]"
      ]
     },
     "execution_count": 35,
     "metadata": {},
     "output_type": "execute_result"
    },
    {
     "data": {
      "image/png": "[encoded data removed]",
      "text/plain": [
       "<Figure size 432x288 with 1 Axes>"
      ]
     },
     "metadata": {},
     "output_type": "display_data"
    }
   ],
   "source": [
    "x=np.arange(0,3*np.pi,0.1)\n",
    "y=np.sin(x)\n",
    "\n",
    "plt.plot(x,y)"
   ]
  },
  {
   "cell_type": "code",
   "execution_count": 39,
   "metadata": {},
   "outputs": [
    {
     "data": {
      "image/png": "[encoded data removed]",
      "text/plain": [
       "<Figure size 432x288 with 1 Axes>"
      ]
     },
     "metadata": {},
     "output_type": "display_data"
    }
   ],
   "source": [
    "y_sin=np.sin(x)\n",
    "y_cos=np.cos(x)\n",
    "plt.plot(x,y_sin)\n",
    "plt.plot(x,y_cos)\n",
    "plt.xlabel('x axis label')\n",
    "plt.ylabel('y axis label')\n",
    "plt.title('Sine and Cosine')\n",
    "plt.legend(['Sine','Cosine']) #범주\n",
    "\n",
    "plt.show()"
   ]
  },
  {
   "cell_type": "code",
   "execution_count": 50,
   "metadata": {},
   "outputs": [
    {
     "data": {
      "image/png": "[encoded data removed]",
      "text/plain": [
       "<Figure size 432x288 with 1 Axes>"
      ]
     },
     "metadata": {},
     "output_type": "display_data"
    },
    {
     "data": {
      "image/png": "[encoded data removed]",
      "text/plain": [
       "<Figure size 432x288 with 1 Axes>"
      ]
     },
     "metadata": {},
     "output_type": "display_data"
    }
   ],
   "source": [
    "\n",
    "plt.subplot(2,1,1)\n",
    "plt.plot(x,y_sin)\n",
    "plt.title('Sine')\n",
    "plt.show()\n",
    "\n",
    "plt.subplot(2,1,1)\n",
    "plt.plot(x,y_cos)\n",
    "plt.title('Cosine')\n",
    "\n",
    "plt.show()"
   ]
  },
  {
   "cell_type": "code",
   "execution_count": 51,
   "metadata": {},
   "outputs": [
    {
     "name": "stdout",
     "output_type": "stream",
     "text": [
      "          A         B         C         D\n",
      "0  0.933275  0.063812  0.989698  0.239108\n",
      "1  0.539706  0.928426  0.545756  0.342320\n",
      "2  0.336089  0.636306  0.902429  0.552367\n",
      "3  0.864527  0.411254  0.263439  0.281203\n",
      "4  0.843943  0.729625  0.616445  0.720693\n",
      "5  0.197333  0.456278  0.959053  0.943457\n"
     ]
    }
   ],
   "source": [
    "df=pd.DataFrame(np.random.random((6,4)),columns=list('ABCD'))\n",
    "print(df)"
   ]
  },
  {
   "cell_type": "code",
   "execution_count": 55,
   "metadata": {},
   "outputs": [
    {
     "data": {
      "text/plain": [
       "<matplotlib.axes._subplots.AxesSubplot at 0x25b83a1ebe0>"
      ]
     },
     "execution_count": 55,
     "metadata": {},
     "output_type": "execute_result"
    },
    {
     "data": {
      "image/png": "[encoded data removed]",
      "text/plain": [
       "<Figure size 432x288 with 1 Axes>"
      ]
     },
     "metadata": {},
     "output_type": "display_data"
    }
   ],
   "source": [
    "df.plot()"
   ]
  },
  {
   "cell_type": "code",
   "execution_count": 56,
   "metadata": {},
   "outputs": [
    {
     "data": {
      "image/png": "[encoded data removed]",
      "text/plain": [
       "<Figure size 432x288 with 1 Axes>"
      ]
     },
     "metadata": {},
     "output_type": "display_data"
    }
   ],
   "source": [
    "df.plot(kind='bar')\n",
    "plt.xlabel('index')\n",
    "plt.ylabel('value')\n",
    "plt.title('title')\n",
    "plt.show()"
   ]
  },
  {
   "cell_type": "code",
   "execution_count": 59,
   "metadata": {},
   "outputs": [],
   "source": [
    "import pandas\n",
    "import matplotlib.pyplot as plt"
   ]
  },
  {
   "cell_type": "code",
   "execution_count": 97,
   "metadata": {},
   "outputs": [
    {
     "data": {
      "text/html": [
       "<div>\n",
       "<style scoped>\n",
       "    .dataframe tbody tr th:only-of-type {\n",
       "        vertical-align: middle;\n",
       "    }\n",
       "\n",
       "    .dataframe tbody tr th {\n",
       "        vertical-align: top;\n",
       "    }\n",
       "\n",
       "    .dataframe thead th {\n",
       "        text-align: right;\n",
       "    }\n",
       "</style>\n",
       "<table border=\"1\" class=\"dataframe\">\n",
       "  <thead>\n",
       "    <tr style=\"text-align: right;\">\n",
       "      <th></th>\n",
       "      <th>InvoiceNo</th>\n",
       "      <th>StockCode</th>\n",
       "      <th>Description</th>\n",
       "      <th>Quantity</th>\n",
       "      <th>InvoiceDate</th>\n",
       "      <th>UnitPrice</th>\n",
       "      <th>CustomerID</th>\n",
       "      <th>Country</th>\n",
       "    </tr>\n",
       "  </thead>\n",
       "  <tbody>\n",
       "    <tr>\n",
       "      <th>0</th>\n",
       "      <td>536365</td>\n",
       "      <td>85123A</td>\n",
       "      <td>WHITE HANGING HEART T-LIGHT HOLDER</td>\n",
       "      <td>6</td>\n",
       "      <td>12/1/10 8:26</td>\n",
       "      <td>2.55</td>\n",
       "      <td>17850.0</td>\n",
       "      <td>United Kingdom</td>\n",
       "    </tr>\n",
       "    <tr>\n",
       "      <th>1</th>\n",
       "      <td>536365</td>\n",
       "      <td>71053</td>\n",
       "      <td>WHITE METAL LANTERN</td>\n",
       "      <td>6</td>\n",
       "      <td>12/1/10 8:26</td>\n",
       "      <td>3.39</td>\n",
       "      <td>17850.0</td>\n",
       "      <td>United Kingdom</td>\n",
       "    </tr>\n",
       "    <tr>\n",
       "      <th>2</th>\n",
       "      <td>536365</td>\n",
       "      <td>84406B</td>\n",
       "      <td>CREAM CUPID HEARTS COAT HANGER</td>\n",
       "      <td>8</td>\n",
       "      <td>12/1/10 8:26</td>\n",
       "      <td>2.75</td>\n",
       "      <td>17850.0</td>\n",
       "      <td>United Kingdom</td>\n",
       "    </tr>\n",
       "    <tr>\n",
       "      <th>3</th>\n",
       "      <td>536365</td>\n",
       "      <td>84029G</td>\n",
       "      <td>KNITTED UNION FLAG HOT WATER BOTTLE</td>\n",
       "      <td>6</td>\n",
       "      <td>12/1/10 8:26</td>\n",
       "      <td>3.39</td>\n",
       "      <td>17850.0</td>\n",
       "      <td>United Kingdom</td>\n",
       "    </tr>\n",
       "    <tr>\n",
       "      <th>4</th>\n",
       "      <td>536365</td>\n",
       "      <td>84029E</td>\n",
       "      <td>RED WOOLLY HOTTIE WHITE HEART.</td>\n",
       "      <td>6</td>\n",
       "      <td>12/1/10 8:26</td>\n",
       "      <td>3.39</td>\n",
       "      <td>17850.0</td>\n",
       "      <td>United Kingdom</td>\n",
       "    </tr>\n",
       "  </tbody>\n",
       "</table>\n",
       "</div>"
      ],
      "text/plain": [
       "  InvoiceNo StockCode                          Description  Quantity  \\\n",
       "0    536365    85123A   WHITE HANGING HEART T-LIGHT HOLDER         6   \n",
       "1    536365     71053                  WHITE METAL LANTERN         6   \n",
       "2    536365    84406B       CREAM CUPID HEARTS COAT HANGER         8   \n",
       "3    536365    84029G  KNITTED UNION FLAG HOT WATER BOTTLE         6   \n",
       "4    536365    84029E       RED WOOLLY HOTTIE WHITE HEART.         6   \n",
       "\n",
       "    InvoiceDate  UnitPrice  CustomerID         Country  \n",
       "0  12/1/10 8:26       2.55     17850.0  United Kingdom  \n",
       "1  12/1/10 8:26       3.39     17850.0  United Kingdom  \n",
       "2  12/1/10 8:26       2.75     17850.0  United Kingdom  \n",
       "3  12/1/10 8:26       3.39     17850.0  United Kingdom  \n",
       "4  12/1/10 8:26       3.39     17850.0  United Kingdom  "
      ]
     },
     "execution_count": 97,
     "metadata": {},
     "output_type": "execute_result"
    }
   ],
   "source": [
    "url=\"https://raw.githubusercontent.com/spb829/AI-Agent/practice3/Packages/data.csv\"\n",
    "dataframe=pd.read_csv(url)\n",
    "dataframe.head()"
   ]
  },
  {
   "cell_type": "code",
   "execution_count": 100,
   "metadata": {},
   "outputs": [],
   "source": [
    "from IPython.display import Image\n",
    "%matplotlib inline\n",
    "from sklearn import datasets\n",
    "import numpy as np\n",
    "from sklearn.preprocessing import StandardScaler\n",
    "from sklearn.model_selection import train_test_split\n",
    "from sklearn.neighbors import KNeighborsClassifier\n",
    "from sklearn.metrics import classification_report\n",
    "from sklearn.metrics import accuracy_score\n",
    "from matplotlib.colors import ListedColormap\n",
    "import matplotlib.pyplot as plt\n",
    "import warnings"
   ]
  },
  {
   "cell_type": "code",
   "execution_count": 101,
   "metadata": {},
   "outputs": [],
   "source": [
    "#helper function\n",
    "def versiontuple(v):\n",
    "    return tuple(map(int, (v.split(\".\"))))\n",
    "\n",
    "def plot_decision_regions(X, y, classifier, test_idx=None, resolution=0.02):\n",
    "\n",
    "    # setup marker generator and color map\n",
    "    markers = ('s', 'x', 'o', '^', 'v')\n",
    "    colors = ('red', 'blue', 'lightgreen', 'gray', 'cyan')\n",
    "    cmap = ListedColormap(colors[:len(np.unique(y))])\n",
    "\n",
    "    # plot the decision surface\n",
    "    x1_min, x1_max = X[:, 0].min() - 1, X[:, 0].max() + 1\n",
    "    x2_min, x2_max = X[:, 1].min() - 1, X[:, 1].max() + 1\n",
    "    xx1, xx2 = np.meshgrid(np.arange(x1_min, x1_max, resolution),\n",
    "                           np.arange(x2_min, x2_max, resolution))\n",
    "    Z = classifier.predict(np.array([xx1.ravel(), xx2.ravel()]).T)\n",
    "    Z = Z.reshape(xx1.shape)\n",
    "    plt.contourf(xx1, xx2, Z, alpha=0.4, cmap=cmap)\n",
    "    plt.xlim(xx1.min(), xx1.max())\n",
    "    plt.ylim(xx2.min(), xx2.max())\n",
    "\n",
    "    for idx, cl in enumerate(np.unique(y)):\n",
    "        plt.scatter(x=X[y == cl, 0], \n",
    "                    y=X[y == cl, 1],\n",
    "                    alpha=0.6, \n",
    "                    c=cmap(idx),\n",
    "                    edgecolor='black',\n",
    "                    marker=markers[idx], \n",
    "                    label=cl)\n",
    "\n",
    "    # highlight test samples\n",
    "    if test_idx:\n",
    "        # plot all samples\n",
    "        if not versiontuple(np.__version__) >= versiontuple('1.9.0'):\n",
    "            X_test, y_test = X[list(test_idx), :], y[list(test_idx)]\n",
    "            warnings.warn('Please update to NumPy 1.9.0 or newer')\n",
    "        else:\n",
    "            X_test, y_test = X[test_idx, :], y[test_idx]\n",
    "\n",
    "        plt.scatter(X_test[:, 0],\n",
    "                    X_test[:, 1],\n",
    "                    c='',\n",
    "                    alpha=1.0,\n",
    "                    edgecolor='black',\n",
    "                    linewidths=1,\n",
    "                    marker='o',\n",
    "                    s=55, label='test set')"
   ]
  },
  {
   "cell_type": "code",
   "execution_count": 109,
   "metadata": {},
   "outputs": [
    {
     "name": "stdout",
     "output_type": "stream",
     "text": [
      "feature name\n",
      "['sepal length (cm)', 'sepal width (cm)', 'petal length (cm)', 'petal width (cm)']\n",
      "\n",
      "Class names\n",
      "['setosa' 'versicolor' 'virginica']\n",
      "\n",
      "Data Eaxmple\n",
      "[[5.1 3.5 1.4 0.2]\n",
      " [4.9 3.  1.4 0.2]\n",
      " [4.7 3.2 1.3 0.2]\n",
      " [4.6 3.1 1.5 0.2]\n",
      " [5.  3.6 1.4 0.2]]\n"
     ]
    }
   ],
   "source": [
    "iris  =  datasets.load_iris()\n",
    "print(\"feature name\")\n",
    "print(iris.feature_names)\n",
    "print('\\nClass names')\n",
    "print(iris.target_names)\n",
    "print(\"\\nData Eaxmple\")\n",
    "print(iris.data[0:5,])"
   ]
  },
  {
   "cell_type": "code",
   "execution_count": 110,
   "metadata": {},
   "outputs": [
    {
     "name": "stdout",
     "output_type": "stream",
     "text": [
      "septal\n",
      "[[3.5 1.4]\n",
      " [3.  1.4]\n",
      " [3.2 1.3]\n",
      " [3.1 1.5]\n",
      " [3.6 1.4]]\n",
      "\n",
      "peptal\n",
      "[[1.4 0.2]\n",
      " [1.4 0.2]\n",
      " [1.3 0.2]\n",
      " [1.5 0.2]\n",
      " [1.4 0.2]]\n",
      "\n",
      "Class names\n",
      "['setosa' 'versicolor' 'virginica']\n"
     ]
    }
   ],
   "source": [
    "X_sepal = iris.data[:, [1, 2]]\n",
    "y_sepal = iris.target\n",
    "print(\"septal\")\n",
    "print(X_sepal[0:5])\n",
    "\n",
    "X_petal = iris.data[:, [2, 3]]\n",
    "y_petal = iris.target\n",
    "print(\"\\npeptal\")\n",
    "print(X_petal[0:5])\n",
    "\n",
    "print(\"\\nClass names\")\n",
    "print(iris.target_names)"
   ]
  },
  {
   "cell_type": "code",
   "execution_count": 117,
   "metadata": {},
   "outputs": [],
   "source": [
    "#petal\n",
    "X_train, X_test, y_train, y_test = train_test_split(X_petal, y_petal, test_size=0.5, random_state=0)"
   ]
  },
  {
   "cell_type": "code",
   "execution_count": 127,
   "metadata": {},
   "outputs": [],
   "source": [
    "#sepal\n",
    "X_train, X_test, y_train, y_test = train_test_split(X_sepal, y_sepal, test_size=0.5, random_state=0)"
   ]
  },
  {
   "cell_type": "code",
   "execution_count": 128,
   "metadata": {},
   "outputs": [
    {
     "name": "stdout",
     "output_type": "stream",
     "text": [
      "X_train\n",
      "[[3.1 1.5]\n",
      " [3.  5.1]\n",
      " [2.5 3. ]\n",
      " [3.4 1.4]\n",
      " [2.2 4.5]]\n",
      "\n",
      "X_train_std\n",
      "[[ 0.01594752 -1.13425915]\n",
      " [-0.22326533  0.75267844]\n",
      " [-1.41932957 -0.34803516]\n",
      " [ 0.73358607 -1.18667408]\n",
      " [-2.13696812  0.43818884]]\n"
     ]
    }
   ],
   "source": [
    "#Standardization\n",
    "#z = (X-mean)/std\n",
    "sc = StandardScaler()\n",
    "sc.fit(X_train)\n",
    "X_train_std = sc.transform(X_train)\n",
    "X_test_std = sc.transform(X_test)\n",
    "X_combined_std = np.vstack((X_train_std, X_test_std))\n",
    "y_combined = np.hstack((y_train, y_test))\n",
    "\n",
    "print(\"X_train\")\n",
    "print(X_train[0:5])\n",
    "print(\"\\nX_train_std\")\n",
    "print(X_train_std[0:5])"
   ]
  },
  {
   "cell_type": "code",
   "execution_count": 123,
   "metadata": {},
   "outputs": [
    {
     "name": "stdout",
     "output_type": "stream",
     "text": [
      "\n",
      "Class names\n",
      "['setosa' 'versicolor' 'virginica']\n"
     ]
    },
    {
     "data": {
      "image/png": "[encoded data removed]",
      "text/plain": [
       "<Figure size 432x288 with 1 Axes>"
      ]
     },
     "metadata": {},
     "output_type": "display_data"
    }
   ],
   "source": [
    "knn=  KNeighborsClassifier(n_neighbors=5, p=2, metric='minkowski')\n",
    "knn.fit(X_train_std, y_train)\n",
    "\n",
    "plot_decision_regions(X_combined_std, y_combined, classifier=knn, test_idx=range(105, 150))\n",
    "\n",
    "plt.xlabel('petal length [standardized]')\n",
    "plt.ylabel('petal width [standardized]')\n",
    "plt.legend(loc='upper left')\n",
    "plt.tight_layout()\n",
    "#plt.savefig('./KNN_Decision_Regions.png', dpi=300)\n",
    "print(\"\\nClass names\")\n",
    "print(iris.target_names)\n",
    "plt.show()"
   ]
  },
  {
   "cell_type": "code",
   "execution_count": 138,
   "metadata": {},
   "outputs": [
    {
     "name": "stdout",
     "output_type": "stream",
     "text": [
      "\n",
      "Class names\n",
      "['setosa' 'versicolor' 'virginica']\n"
     ]
    },
    {
     "data": {
      "image/png": "[encoded data removed]",
      "text/plain": [
       "<Figure size 432x288 with 1 Axes>"
      ]
     },
     "metadata": {},
     "output_type": "display_data"
    }
   ],
   "source": [
    "knn=  KNeighborsClassifier(n_neighbors=5, p=2, metric='minkowski')\n",
    "knn.fit(X_train_std, y_train)\n",
    "\n",
    "plot_decision_regions(X_combined_std, y_combined, classifier=knn, test_idx=range(105, 150))\n",
    "\n",
    "plt.xlabel('sepal length [standardized]')\n",
    "plt.ylabel('sepal width [standardized]')\n",
    "plt.legend(loc='upper left')\n",
    "plt.tight_layout()\n",
    "#plt.savefig('./KNN_Decision_Regions.png', dpi=300)\n",
    "print(\"\\nClass names\")\n",
    "print(iris.target_names)\n",
    "plt.show()"
   ]
  },
  {
   "cell_type": "code",
   "execution_count": 135,
   "metadata": {},
   "outputs": [
    {
     "name": "stdout",
     "output_type": "stream",
     "text": [
      "Case from training dataset\n",
      "[[-0.70169103  0.75267844]\n",
      " [-2.13696812  0.17611417]\n",
      " [ 2.64728887 -1.18667408]\n",
      " [-0.46247818  1.38165763]\n",
      " [ 0.73358607 -1.13425915]]\n",
      "\n",
      "Predicted results from KNN model\n",
      "[2 1 0 2 0]\n"
     ]
    }
   ],
   "source": [
    "y_pred = knn.predict(X_test_std)\n",
    "print(\"Case from training dataset\")\n",
    "print(X_test_std[0:5])\n",
    "\n",
    "print(\"\\nPredicted results from KNN model\")\n",
    "print(y_pred[0:5])"
   ]
  },
  {
   "cell_type": "code",
   "execution_count": 136,
   "metadata": {},
   "outputs": [
    {
     "name": "stdout",
     "output_type": "stream",
     "text": [
      "Classification Report\n",
      "             precision    recall  f1-score   support\n",
      "\n",
      "     setosa       1.00      1.00      1.00        21\n",
      " versicolor       0.81      0.87      0.84        30\n",
      "  virginica       0.82      0.75      0.78        24\n",
      "\n",
      "avg / total       0.87      0.87      0.87        75\n",
      "\n",
      "\n",
      " Accuracy\n",
      "0.8666666666666667\n"
     ]
    }
   ],
   "source": [
    "print(\"Classification Report\")\n",
    "print(classification_report(y_test, y_pred, target_names=iris.target_names))\n",
    "\n",
    "print(\"\\n Accuracy\")\n",
    "print(accuracy_score(y_test, y_pred))"
   ]
  },
  {
   "cell_type": "markdown",
   "metadata": {},
   "source": [
    "### Pandas"
   ]
  },
  {
   "cell_type": "code",
   "execution_count": 44,
   "metadata": {},
   "outputs": [
    {
     "name": "stdout",
     "output_type": "stream",
     "text": [
      "Load Package\n"
     ]
    }
   ],
   "source": [
    "import pandas as pd\n",
    "import numpy as np\n",
    "import matplotlib.pyplot as plt\n",
    "print(\"Load Package\")"
   ]
  },
  {
   "cell_type": "code",
   "execution_count": 46,
   "metadata": {},
   "outputs": [
    {
     "name": "stdout",
     "output_type": "stream",
     "text": [
      "0    1.0\n",
      "1    3.0\n",
      "2    5.0\n",
      "3    NaN\n",
      "4    6.0\n",
      "5    8.0\n",
      "dtype: float64\n"
     ]
    }
   ],
   "source": [
    "s=pd.Series([1,3,5,np.nan,6,8])\n",
    "print(s)"
   ]
  },
  {
   "cell_type": "code",
   "execution_count": 48,
   "metadata": {},
   "outputs": [
    {
     "name": "stdout",
     "output_type": "stream",
     "text": [
      "DatetimeIndex(['2013-01-01', '2013-01-02', '2013-01-03', '2013-01-04',\n",
      "               '2013-01-05', '2013-01-06'],\n",
      "              dtype='datetime64[ns]', freq='D')\n"
     ]
    }
   ],
   "source": [
    "dates=pd.date_range('20130101',periods=6)\n",
    "print(dates)"
   ]
  },
  {
   "cell_type": "code",
   "execution_count": 60,
   "metadata": {},
   "outputs": [
    {
     "name": "stdout",
     "output_type": "stream",
     "text": [
      "                   A         B         C         D\n",
      "2013-01-01  1.146803  1.254809  0.914819  0.681587\n",
      "2013-01-02  0.512724  1.349613  1.646917 -0.738963\n",
      "2013-01-03  2.137955 -1.119550 -0.466082 -0.925549\n",
      "2013-01-04  0.304492 -0.940645 -0.199572  0.551735\n",
      "2013-01-05  1.189572  0.278617 -0.674983  0.090425\n",
      "2013-01-06 -0.292254  1.541614  2.027893  1.005686\n"
     ]
    }
   ],
   "source": [
    "df=pd.DataFrame(np.random.randn(6,4),index=dates,columns=list('ABCD')) #index에 값지정 안해주면 숫자로 들어감\n",
    "print(df)"
   ]
  },
  {
   "cell_type": "code",
   "execution_count": 61,
   "metadata": {},
   "outputs": [
    {
     "name": "stdout",
     "output_type": "stream",
     "text": [
      "     A          B    C  D      E    F\n",
      "0  1.0 2013-01-02  1.0  3   test  foo\n",
      "1  1.0 2013-01-02  1.0  3  train  foo\n",
      "2  1.0 2013-01-02  1.0  3   test  foo\n",
      "3  1.0 2013-01-02  1.0  3  train  foo\n"
     ]
    }
   ],
   "source": [
    "df2=pd.DataFrame({'A':1.,\n",
    "                 'B':pd.Timestamp('20130102'),\n",
    "                 'C':pd.Series(1,index=list(range(4)),dtype='float32'), #Series 값이 여러개인 경우 index꼭!\n",
    "                 'D':np.array([3]*4),\n",
    "                 'E':pd.Categorical([\"test\",\"train\",\"test\",\"train\"]),\n",
    "                 'F':'foo'})\n",
    "print(df2)"
   ]
  },
  {
   "cell_type": "code",
   "execution_count": 62,
   "metadata": {},
   "outputs": [
    {
     "data": {
      "text/plain": [
       "A           float64\n",
       "B    datetime64[ns]\n",
       "C           float32\n",
       "D             int32\n",
       "E          category\n",
       "F            object\n",
       "dtype: object"
      ]
     },
     "execution_count": 62,
     "metadata": {},
     "output_type": "execute_result"
    }
   ],
   "source": [
    "df2.dtypes"
   ]
  },
  {
   "cell_type": "code",
   "execution_count": 69,
   "metadata": {},
   "outputs": [
    {
     "data": {
      "text/html": [
       "<div>\n",
       "<style scoped>\n",
       "    .dataframe tbody tr th:only-of-type {\n",
       "        vertical-align: middle;\n",
       "    }\n",
       "\n",
       "    .dataframe tbody tr th {\n",
       "        vertical-align: top;\n",
       "    }\n",
       "\n",
       "    .dataframe thead th {\n",
       "        text-align: right;\n",
       "    }\n",
       "</style>\n",
       "<table border=\"1\" class=\"dataframe\">\n",
       "  <thead>\n",
       "    <tr style=\"text-align: right;\">\n",
       "      <th></th>\n",
       "      <th>A</th>\n",
       "      <th>B</th>\n",
       "      <th>C</th>\n",
       "      <th>D</th>\n",
       "    </tr>\n",
       "  </thead>\n",
       "  <tbody>\n",
       "    <tr>\n",
       "      <th>2013-01-01</th>\n",
       "      <td>1.146803</td>\n",
       "      <td>1.254809</td>\n",
       "      <td>0.914819</td>\n",
       "      <td>0.681587</td>\n",
       "    </tr>\n",
       "    <tr>\n",
       "      <th>2013-01-02</th>\n",
       "      <td>0.512724</td>\n",
       "      <td>1.349613</td>\n",
       "      <td>1.646917</td>\n",
       "      <td>-0.738963</td>\n",
       "    </tr>\n",
       "    <tr>\n",
       "      <th>2013-01-03</th>\n",
       "      <td>2.137955</td>\n",
       "      <td>-1.119550</td>\n",
       "      <td>-0.466082</td>\n",
       "      <td>-0.925549</td>\n",
       "    </tr>\n",
       "    <tr>\n",
       "      <th>2013-01-04</th>\n",
       "      <td>0.304492</td>\n",
       "      <td>-0.940645</td>\n",
       "      <td>-0.199572</td>\n",
       "      <td>0.551735</td>\n",
       "    </tr>\n",
       "    <tr>\n",
       "      <th>2013-01-05</th>\n",
       "      <td>1.189572</td>\n",
       "      <td>0.278617</td>\n",
       "      <td>-0.674983</td>\n",
       "      <td>0.090425</td>\n",
       "    </tr>\n",
       "    <tr>\n",
       "      <th>2013-01-06</th>\n",
       "      <td>-0.292254</td>\n",
       "      <td>1.541614</td>\n",
       "      <td>2.027893</td>\n",
       "      <td>1.005686</td>\n",
       "    </tr>\n",
       "  </tbody>\n",
       "</table>\n",
       "</div>"
      ],
      "text/plain": [
       "                   A         B         C         D\n",
       "2013-01-01  1.146803  1.254809  0.914819  0.681587\n",
       "2013-01-02  0.512724  1.349613  1.646917 -0.738963\n",
       "2013-01-03  2.137955 -1.119550 -0.466082 -0.925549\n",
       "2013-01-04  0.304492 -0.940645 -0.199572  0.551735\n",
       "2013-01-05  1.189572  0.278617 -0.674983  0.090425\n",
       "2013-01-06 -0.292254  1.541614  2.027893  1.005686"
      ]
     },
     "execution_count": 69,
     "metadata": {},
     "output_type": "execute_result"
    }
   ],
   "source": [
    "df"
   ]
  },
  {
   "cell_type": "code",
   "execution_count": 64,
   "metadata": {},
   "outputs": [
    {
     "data": {
      "text/html": [
       "<div>\n",
       "<style scoped>\n",
       "    .dataframe tbody tr th:only-of-type {\n",
       "        vertical-align: middle;\n",
       "    }\n",
       "\n",
       "    .dataframe tbody tr th {\n",
       "        vertical-align: top;\n",
       "    }\n",
       "\n",
       "    .dataframe thead th {\n",
       "        text-align: right;\n",
       "    }\n",
       "</style>\n",
       "<table border=\"1\" class=\"dataframe\">\n",
       "  <thead>\n",
       "    <tr style=\"text-align: right;\">\n",
       "      <th></th>\n",
       "      <th>A</th>\n",
       "      <th>B</th>\n",
       "      <th>C</th>\n",
       "      <th>D</th>\n",
       "    </tr>\n",
       "  </thead>\n",
       "  <tbody>\n",
       "    <tr>\n",
       "      <th>2013-01-04</th>\n",
       "      <td>0.304492</td>\n",
       "      <td>-0.940645</td>\n",
       "      <td>-0.199572</td>\n",
       "      <td>0.551735</td>\n",
       "    </tr>\n",
       "    <tr>\n",
       "      <th>2013-01-05</th>\n",
       "      <td>1.189572</td>\n",
       "      <td>0.278617</td>\n",
       "      <td>-0.674983</td>\n",
       "      <td>0.090425</td>\n",
       "    </tr>\n",
       "    <tr>\n",
       "      <th>2013-01-06</th>\n",
       "      <td>-0.292254</td>\n",
       "      <td>1.541614</td>\n",
       "      <td>2.027893</td>\n",
       "      <td>1.005686</td>\n",
       "    </tr>\n",
       "  </tbody>\n",
       "</table>\n",
       "</div>"
      ],
      "text/plain": [
       "                   A         B         C         D\n",
       "2013-01-04  0.304492 -0.940645 -0.199572  0.551735\n",
       "2013-01-05  1.189572  0.278617 -0.674983  0.090425\n",
       "2013-01-06 -0.292254  1.541614  2.027893  1.005686"
      ]
     },
     "execution_count": 64,
     "metadata": {},
     "output_type": "execute_result"
    }
   ],
   "source": [
    "df.tail(3)"
   ]
  },
  {
   "cell_type": "code",
   "execution_count": 65,
   "metadata": {},
   "outputs": [
    {
     "data": {
      "text/plain": [
       "DatetimeIndex(['2013-01-01', '2013-01-02', '2013-01-03', '2013-01-04',\n",
       "               '2013-01-05', '2013-01-06'],\n",
       "              dtype='datetime64[ns]', freq='D')"
      ]
     },
     "execution_count": 65,
     "metadata": {},
     "output_type": "execute_result"
    }
   ],
   "source": [
    "df.index"
   ]
  },
  {
   "cell_type": "code",
   "execution_count": 66,
   "metadata": {},
   "outputs": [
    {
     "data": {
      "text/plain": [
       "Index(['A', 'B', 'C', 'D'], dtype='object')"
      ]
     },
     "execution_count": 66,
     "metadata": {},
     "output_type": "execute_result"
    }
   ],
   "source": [
    "df.columns"
   ]
  },
  {
   "cell_type": "code",
   "execution_count": 67,
   "metadata": {},
   "outputs": [
    {
     "data": {
      "text/plain": [
       "array([[ 1.1468026 ,  1.25480907,  0.914819  ,  0.68158748],\n",
       "       [ 0.51272414,  1.34961261,  1.64691681, -0.73896322],\n",
       "       [ 2.13795469, -1.1195502 , -0.46608193, -0.92554894],\n",
       "       [ 0.30449166, -0.94064534, -0.19957236,  0.551735  ],\n",
       "       [ 1.18957209,  0.27861722, -0.67498331,  0.09042526],\n",
       "       [-0.29225411,  1.54161379,  2.02789294,  1.0056862 ]])"
      ]
     },
     "execution_count": 67,
     "metadata": {},
     "output_type": "execute_result"
    }
   ],
   "source": [
    "df.values"
   ]
  },
  {
   "cell_type": "code",
   "execution_count": 68,
   "metadata": {},
   "outputs": [
    {
     "data": {
      "text/html": [
       "<div>\n",
       "<style scoped>\n",
       "    .dataframe tbody tr th:only-of-type {\n",
       "        vertical-align: middle;\n",
       "    }\n",
       "\n",
       "    .dataframe tbody tr th {\n",
       "        vertical-align: top;\n",
       "    }\n",
       "\n",
       "    .dataframe thead th {\n",
       "        text-align: right;\n",
       "    }\n",
       "</style>\n",
       "<table border=\"1\" class=\"dataframe\">\n",
       "  <thead>\n",
       "    <tr style=\"text-align: right;\">\n",
       "      <th></th>\n",
       "      <th>A</th>\n",
       "      <th>B</th>\n",
       "      <th>C</th>\n",
       "      <th>D</th>\n",
       "    </tr>\n",
       "  </thead>\n",
       "  <tbody>\n",
       "    <tr>\n",
       "      <th>count</th>\n",
       "      <td>6.000000</td>\n",
       "      <td>6.000000</td>\n",
       "      <td>6.000000</td>\n",
       "      <td>6.000000</td>\n",
       "    </tr>\n",
       "    <tr>\n",
       "      <th>mean</th>\n",
       "      <td>0.833215</td>\n",
       "      <td>0.394076</td>\n",
       "      <td>0.541499</td>\n",
       "      <td>0.110820</td>\n",
       "    </tr>\n",
       "    <tr>\n",
       "      <th>std</th>\n",
       "      <td>0.845768</td>\n",
       "      <td>1.187992</td>\n",
       "      <td>1.150210</td>\n",
       "      <td>0.789630</td>\n",
       "    </tr>\n",
       "    <tr>\n",
       "      <th>min</th>\n",
       "      <td>-0.292254</td>\n",
       "      <td>-1.119550</td>\n",
       "      <td>-0.674983</td>\n",
       "      <td>-0.925549</td>\n",
       "    </tr>\n",
       "    <tr>\n",
       "      <th>25%</th>\n",
       "      <td>0.356550</td>\n",
       "      <td>-0.635830</td>\n",
       "      <td>-0.399455</td>\n",
       "      <td>-0.531616</td>\n",
       "    </tr>\n",
       "    <tr>\n",
       "      <th>50%</th>\n",
       "      <td>0.829763</td>\n",
       "      <td>0.766713</td>\n",
       "      <td>0.357623</td>\n",
       "      <td>0.321080</td>\n",
       "    </tr>\n",
       "    <tr>\n",
       "      <th>75%</th>\n",
       "      <td>1.178880</td>\n",
       "      <td>1.325912</td>\n",
       "      <td>1.463892</td>\n",
       "      <td>0.649124</td>\n",
       "    </tr>\n",
       "    <tr>\n",
       "      <th>max</th>\n",
       "      <td>2.137955</td>\n",
       "      <td>1.541614</td>\n",
       "      <td>2.027893</td>\n",
       "      <td>1.005686</td>\n",
       "    </tr>\n",
       "  </tbody>\n",
       "</table>\n",
       "</div>"
      ],
      "text/plain": [
       "              A         B         C         D\n",
       "count  6.000000  6.000000  6.000000  6.000000\n",
       "mean   0.833215  0.394076  0.541499  0.110820\n",
       "std    0.845768  1.187992  1.150210  0.789630\n",
       "min   -0.292254 -1.119550 -0.674983 -0.925549\n",
       "25%    0.356550 -0.635830 -0.399455 -0.531616\n",
       "50%    0.829763  0.766713  0.357623  0.321080\n",
       "75%    1.178880  1.325912  1.463892  0.649124\n",
       "max    2.137955  1.541614  2.027893  1.005686"
      ]
     },
     "execution_count": 68,
     "metadata": {},
     "output_type": "execute_result"
    }
   ],
   "source": [
    "df.describe()"
   ]
  },
  {
   "cell_type": "code",
   "execution_count": 70,
   "metadata": {},
   "outputs": [
    {
     "data": {
      "text/html": [
       "<div>\n",
       "<style scoped>\n",
       "    .dataframe tbody tr th:only-of-type {\n",
       "        vertical-align: middle;\n",
       "    }\n",
       "\n",
       "    .dataframe tbody tr th {\n",
       "        vertical-align: top;\n",
       "    }\n",
       "\n",
       "    .dataframe thead th {\n",
       "        text-align: right;\n",
       "    }\n",
       "</style>\n",
       "<table border=\"1\" class=\"dataframe\">\n",
       "  <thead>\n",
       "    <tr style=\"text-align: right;\">\n",
       "      <th></th>\n",
       "      <th>A</th>\n",
       "      <th>B</th>\n",
       "      <th>C</th>\n",
       "      <th>D</th>\n",
       "    </tr>\n",
       "  </thead>\n",
       "  <tbody>\n",
       "    <tr>\n",
       "      <th>2013-01-03</th>\n",
       "      <td>2.137955</td>\n",
       "      <td>-1.119550</td>\n",
       "      <td>-0.466082</td>\n",
       "      <td>-0.925549</td>\n",
       "    </tr>\n",
       "    <tr>\n",
       "      <th>2013-01-04</th>\n",
       "      <td>0.304492</td>\n",
       "      <td>-0.940645</td>\n",
       "      <td>-0.199572</td>\n",
       "      <td>0.551735</td>\n",
       "    </tr>\n",
       "    <tr>\n",
       "      <th>2013-01-05</th>\n",
       "      <td>1.189572</td>\n",
       "      <td>0.278617</td>\n",
       "      <td>-0.674983</td>\n",
       "      <td>0.090425</td>\n",
       "    </tr>\n",
       "    <tr>\n",
       "      <th>2013-01-01</th>\n",
       "      <td>1.146803</td>\n",
       "      <td>1.254809</td>\n",
       "      <td>0.914819</td>\n",
       "      <td>0.681587</td>\n",
       "    </tr>\n",
       "    <tr>\n",
       "      <th>2013-01-02</th>\n",
       "      <td>0.512724</td>\n",
       "      <td>1.349613</td>\n",
       "      <td>1.646917</td>\n",
       "      <td>-0.738963</td>\n",
       "    </tr>\n",
       "    <tr>\n",
       "      <th>2013-01-06</th>\n",
       "      <td>-0.292254</td>\n",
       "      <td>1.541614</td>\n",
       "      <td>2.027893</td>\n",
       "      <td>1.005686</td>\n",
       "    </tr>\n",
       "  </tbody>\n",
       "</table>\n",
       "</div>"
      ],
      "text/plain": [
       "                   A         B         C         D\n",
       "2013-01-03  2.137955 -1.119550 -0.466082 -0.925549\n",
       "2013-01-04  0.304492 -0.940645 -0.199572  0.551735\n",
       "2013-01-05  1.189572  0.278617 -0.674983  0.090425\n",
       "2013-01-01  1.146803  1.254809  0.914819  0.681587\n",
       "2013-01-02  0.512724  1.349613  1.646917 -0.738963\n",
       "2013-01-06 -0.292254  1.541614  2.027893  1.005686"
      ]
     },
     "execution_count": 70,
     "metadata": {},
     "output_type": "execute_result"
    }
   ],
   "source": [
    "df.sort_values(by='B') #defaul 오름차순 "
   ]
  },
  {
   "cell_type": "code",
   "execution_count": 72,
   "metadata": {},
   "outputs": [
    {
     "data": {
      "text/html": [
       "<div>\n",
       "<style scoped>\n",
       "    .dataframe tbody tr th:only-of-type {\n",
       "        vertical-align: middle;\n",
       "    }\n",
       "\n",
       "    .dataframe tbody tr th {\n",
       "        vertical-align: top;\n",
       "    }\n",
       "\n",
       "    .dataframe thead th {\n",
       "        text-align: right;\n",
       "    }\n",
       "</style>\n",
       "<table border=\"1\" class=\"dataframe\">\n",
       "  <thead>\n",
       "    <tr style=\"text-align: right;\">\n",
       "      <th></th>\n",
       "      <th>A</th>\n",
       "      <th>B</th>\n",
       "      <th>C</th>\n",
       "      <th>D</th>\n",
       "    </tr>\n",
       "  </thead>\n",
       "  <tbody>\n",
       "    <tr>\n",
       "      <th>2013-01-06</th>\n",
       "      <td>-0.292254</td>\n",
       "      <td>1.541614</td>\n",
       "      <td>2.027893</td>\n",
       "      <td>1.005686</td>\n",
       "    </tr>\n",
       "    <tr>\n",
       "      <th>2013-01-02</th>\n",
       "      <td>0.512724</td>\n",
       "      <td>1.349613</td>\n",
       "      <td>1.646917</td>\n",
       "      <td>-0.738963</td>\n",
       "    </tr>\n",
       "    <tr>\n",
       "      <th>2013-01-01</th>\n",
       "      <td>1.146803</td>\n",
       "      <td>1.254809</td>\n",
       "      <td>0.914819</td>\n",
       "      <td>0.681587</td>\n",
       "    </tr>\n",
       "    <tr>\n",
       "      <th>2013-01-05</th>\n",
       "      <td>1.189572</td>\n",
       "      <td>0.278617</td>\n",
       "      <td>-0.674983</td>\n",
       "      <td>0.090425</td>\n",
       "    </tr>\n",
       "    <tr>\n",
       "      <th>2013-01-04</th>\n",
       "      <td>0.304492</td>\n",
       "      <td>-0.940645</td>\n",
       "      <td>-0.199572</td>\n",
       "      <td>0.551735</td>\n",
       "    </tr>\n",
       "    <tr>\n",
       "      <th>2013-01-03</th>\n",
       "      <td>2.137955</td>\n",
       "      <td>-1.119550</td>\n",
       "      <td>-0.466082</td>\n",
       "      <td>-0.925549</td>\n",
       "    </tr>\n",
       "  </tbody>\n",
       "</table>\n",
       "</div>"
      ],
      "text/plain": [
       "                   A         B         C         D\n",
       "2013-01-06 -0.292254  1.541614  2.027893  1.005686\n",
       "2013-01-02  0.512724  1.349613  1.646917 -0.738963\n",
       "2013-01-01  1.146803  1.254809  0.914819  0.681587\n",
       "2013-01-05  1.189572  0.278617 -0.674983  0.090425\n",
       "2013-01-04  0.304492 -0.940645 -0.199572  0.551735\n",
       "2013-01-03  2.137955 -1.119550 -0.466082 -0.925549"
      ]
     },
     "execution_count": 72,
     "metadata": {},
     "output_type": "execute_result"
    }
   ],
   "source": [
    "df.sort_values(by='B',ascending=False)"
   ]
  },
  {
   "cell_type": "code",
   "execution_count": 76,
   "metadata": {},
   "outputs": [
    {
     "data": {
      "text/html": [
       "<div>\n",
       "<style scoped>\n",
       "    .dataframe tbody tr th:only-of-type {\n",
       "        vertical-align: middle;\n",
       "    }\n",
       "\n",
       "    .dataframe tbody tr th {\n",
       "        vertical-align: top;\n",
       "    }\n",
       "\n",
       "    .dataframe thead th {\n",
       "        text-align: right;\n",
       "    }\n",
       "</style>\n",
       "<table border=\"1\" class=\"dataframe\">\n",
       "  <thead>\n",
       "    <tr style=\"text-align: right;\">\n",
       "      <th></th>\n",
       "      <th>InvoiceNo</th>\n",
       "      <th>StockCode</th>\n",
       "      <th>Description</th>\n",
       "      <th>Quantity</th>\n",
       "      <th>InvoiceDate</th>\n",
       "      <th>UnitPrice</th>\n",
       "      <th>CustomerID</th>\n",
       "      <th>Country</th>\n",
       "    </tr>\n",
       "  </thead>\n",
       "  <tbody>\n",
       "    <tr>\n",
       "      <th>0</th>\n",
       "      <td>536365</td>\n",
       "      <td>85123A</td>\n",
       "      <td>WHITE HANGING HEART T-LIGHT HOLDER</td>\n",
       "      <td>6</td>\n",
       "      <td>12/1/10 8:26</td>\n",
       "      <td>2.55</td>\n",
       "      <td>17850</td>\n",
       "      <td>United Kingdom</td>\n",
       "    </tr>\n",
       "    <tr>\n",
       "      <th>1</th>\n",
       "      <td>536365</td>\n",
       "      <td>71053</td>\n",
       "      <td>WHITE METAL LANTERN</td>\n",
       "      <td>6</td>\n",
       "      <td>12/1/10 8:26</td>\n",
       "      <td>3.39</td>\n",
       "      <td>17850</td>\n",
       "      <td>United Kingdom</td>\n",
       "    </tr>\n",
       "    <tr>\n",
       "      <th>2</th>\n",
       "      <td>536365</td>\n",
       "      <td>84406B</td>\n",
       "      <td>CREAM CUPID HEARTS COAT HANGER</td>\n",
       "      <td>8</td>\n",
       "      <td>12/1/10 8:26</td>\n",
       "      <td>2.75</td>\n",
       "      <td>17850</td>\n",
       "      <td>United Kingdom</td>\n",
       "    </tr>\n",
       "    <tr>\n",
       "      <th>3</th>\n",
       "      <td>536365</td>\n",
       "      <td>84029G</td>\n",
       "      <td>KNITTED UNION FLAG HOT WATER BOTTLE</td>\n",
       "      <td>6</td>\n",
       "      <td>12/1/10 8:26</td>\n",
       "      <td>3.39</td>\n",
       "      <td>17850</td>\n",
       "      <td>United Kingdom</td>\n",
       "    </tr>\n",
       "    <tr>\n",
       "      <th>4</th>\n",
       "      <td>536365</td>\n",
       "      <td>84029E</td>\n",
       "      <td>RED WOOLLY HOTTIE WHITE HEART.</td>\n",
       "      <td>6</td>\n",
       "      <td>12/1/10 8:26</td>\n",
       "      <td>3.39</td>\n",
       "      <td>17850</td>\n",
       "      <td>United Kingdom</td>\n",
       "    </tr>\n",
       "  </tbody>\n",
       "</table>\n",
       "</div>"
      ],
      "text/plain": [
       "   InvoiceNo StockCode                          Description  Quantity  \\\n",
       "0     536365    85123A   WHITE HANGING HEART T-LIGHT HOLDER         6   \n",
       "1     536365     71053                  WHITE METAL LANTERN         6   \n",
       "2     536365    84406B       CREAM CUPID HEARTS COAT HANGER         8   \n",
       "3     536365    84029G  KNITTED UNION FLAG HOT WATER BOTTLE         6   \n",
       "4     536365    84029E       RED WOOLLY HOTTIE WHITE HEART.         6   \n",
       "\n",
       "    InvoiceDate  UnitPrice  CustomerID         Country  \n",
       "0  12/1/10 8:26       2.55       17850  United Kingdom  \n",
       "1  12/1/10 8:26       3.39       17850  United Kingdom  \n",
       "2  12/1/10 8:26       2.75       17850  United Kingdom  \n",
       "3  12/1/10 8:26       3.39       17850  United Kingdom  \n",
       "4  12/1/10 8:26       3.39       17850  United Kingdom  "
      ]
     },
     "execution_count": 76,
     "metadata": {},
     "output_type": "execute_result"
    }
   ],
   "source": [
    "url=\"./sample_data.csv\"\n",
    "dataset=pd.read_csv(url)\n",
    "dataset.head()"
   ]
  },
  {
   "cell_type": "code",
   "execution_count": 77,
   "metadata": {},
   "outputs": [
    {
     "data": {
      "text/plain": [
       "2013-01-01    1.146803\n",
       "2013-01-02    0.512724\n",
       "2013-01-03    2.137955\n",
       "2013-01-04    0.304492\n",
       "2013-01-05    1.189572\n",
       "2013-01-06   -0.292254\n",
       "Freq: D, Name: A, dtype: float64"
      ]
     },
     "execution_count": 77,
     "metadata": {},
     "output_type": "execute_result"
    }
   ],
   "source": [
    "df['A']"
   ]
  },
  {
   "cell_type": "code",
   "execution_count": null,
   "metadata": {},
   "outputs": [],
   "source": []
  },
  {
   "cell_type": "code",
   "execution_count": 37,
   "metadata": {},
   "outputs": [],
   "source": [
    "import numpy as np\n",
    "import os\n",
    "from collections import Counter\n",
    "from classifier_utils import *\n",
    "\n",
    "# get most common class in the instances\n",
    "def vote(neighbors):\n",
    "    class_counter = Counter()\n",
    "    for neighbor in neighbors:\n",
    "        class_counter[neighbor[-1]] += 1 \n",
    "    #class_counter example format: Counter({0.0: 4, 1.0: 1})\n",
    "    #class_counter.most_common return: key, value\n",
    "    return class_counter.most_common(1)[0][0]\n",
    "\n",
    "# get distance between 2 instances\n",
    "def distance(instance1, instance2):\n",
    "    # just in case, if the instances are lists or tuples:\n",
    "    instance1 = np.array(instance1) \n",
    "    instance2 = np.array(instance2)\n",
    "    # 2-norm\n",
    "    return np.linalg.norm(instance1 - instance2)\n",
    "\n",
    "# get neighbors\n",
    "def getNeighbors(trainingSet, \n",
    "                  testInstance, \n",
    "                  k, \n",
    "                  distance=distance):\n",
    "    distances = []\n",
    "    # for each instances in trainingSet\n",
    "    for index in range(len(trainingSet)):\n",
    "        # get distance from testInstance\n",
    "        dist = distance(testInstance, trainingSet[index])\n",
    "        # put (instance, distance, class of instance) into distances array\n",
    "        distances.append((trainingSet[index], dist, trainingSet[index][-1]))\n",
    "    \n",
    "    # sort distances\n",
    "    distances.sort(key=lambda x: x[1])\n",
    "    # get k neighbors\n",
    "    neighbors = distances[:k]\n",
    "    return neighbors\n",
    "\n",
    "def getPredictionsKNN(trainingSet, testSet, k):\n",
    "    predictions = []\n",
    "    # for each instances(vectors) in testSet\n",
    "    for i in range(len(testSet)):\n",
    "        # get K neighbors from trainingSet\n",
    "        neighbors = getNeighbors(trainingSet, testSet[i], k, distance=distance)\n",
    "        # get most common class in the neighbors\n",
    "        prediction = vote(neighbors)\n",
    "        # put result in the predictions\n",
    "        predictions.append(prediction)\n",
    "        \n",
    "    return predictions\n",
    "\n",
    "\n",
    "def function_i(label):\n",
    "    if label == 1:\n",
    "        return 1\n",
    "    elif label == 0:\n",
    "        return -1\n",
    "\n",
    "def getPredictionsWeightedKNN(trainingSet, testSet, k):\n",
    "    predictions = []\n",
    "    # for each instances(vectors) in testSet\n",
    "    for i in range(len(testSet)):\n",
    "        # get K neighbors from trainingSet\n",
    "        neighbors = getNeighbors(trainingSet, testSet[i], k, distance=distance)\n",
    "\n",
    "        # Weighted KNN\n",
    "        # get W & # get f_j\n",
    "        weights = []\n",
    "        fi_wi = []\n",
    "        for neighbor in neighbors:\n",
    "            # set d_ij(distance)\n",
    "            d_ij = neighbor[1]\n",
    "            label = neighbor[2]\n",
    "            f_i = function_i(label)\n",
    "            \n",
    "            w_i=(1/d_ij)\n",
    "            \n",
    "            # (1) Let w_i = (1 / d_ij)\n",
    "            \n",
    "            fi_wi=f_i*w_i\n",
    "            # (2) f_i * w_i\n",
    "            \n",
    "            \n",
    "        W=sum([w_i])\n",
    "        # (3) W = Sum([w_i])\n",
    "\n",
    "        f_j=float(sum([fi_wi])/W)\n",
    "        \n",
    "        # (4) f_j = Sum(fi_wi) / W\n",
    "\n",
    "        # determine label by f_j\n",
    "        if f_j <= 0:\n",
    "            prediction = 0\n",
    "        elif f_j > 0:\n",
    "            prediction = 1\n",
    "\n",
    "        # put result in the predictions\n",
    "        predictions.append(prediction)\n",
    "        \n",
    "    return predictions"
   ]
  },
  {
   "cell_type": "code",
   "execution_count": 41,
   "metadata": {},
   "outputs": [
    {
     "name": "stdout",
     "output_type": "stream",
     "text": [
      "Split 768 rows into train=384 and test=384 rows\n"
     ]
    }
   ],
   "source": [
    "# Load csv data\n",
    "# Current directory\n",
    "filePath = \"./data.csv\"\n",
    "dataset = loadCsv(filePath)\n",
    "\n",
    "# Split dataset into trainingSet and testSet\n",
    "splitRatio = 0.5\n",
    "trainingSet, testSet = splitDataset(dataset, splitRatio)\n",
    "print('Split {0} rows into train={1} and test={2} rows'.format(len(dataset), len(trainingSet), len(testSet)))\n"
   ]
  },
  {
   "cell_type": "code",
   "execution_count": 42,
   "metadata": {},
   "outputs": [
    {
     "name": "stdout",
     "output_type": "stream",
     "text": [
      "KNN Classifier, K = 1\n",
      "KNN Accuracy: 67.70833333333334%\n",
      "\n",
      "\n",
      "Weighted KNN Classifier, K = 1\n",
      "Weighted KNN Accuracy: 67.70833333333334%\n"
     ]
    }
   ],
   "source": [
    "# Set K\n",
    "K = 1\n",
    "\n",
    "predictionsKNN = getPredictionsKNN(trainingSet, testSet, K)\n",
    "accuracy = getAccuracy(testSet, predictionsKNN)\n",
    "print('KNN Classifier, K = {0}'.format(K))\n",
    "print('KNN Accuracy: {0}%'.format(accuracy))\n",
    "predictionsWeightedKNN = getPredictionsWeightedKNN(trainingSet, testSet, K)\n",
    "weighted_accuracy = getAccuracy(testSet, predictionsWeightedKNN)\n",
    "print('\\n\\nWeighted KNN Classifier, K = {0}'.format(K))\n",
    "print('Weighted KNN Accuracy: {0}%'.format(weighted_accuracy))"
   ]
  },
  {
   "cell_type": "code",
   "execution_count": 43,
   "metadata": {},
   "outputs": [
    {
     "name": "stdout",
     "output_type": "stream",
     "text": [
      "KNN Classifier, K = 20\n",
      "KNN Accuracy: 72.91666666666666%\n",
      "\n",
      "\n",
      "Weighted KNN Classifier, K = 20\n",
      "Weighted KNN Accuracy: 62.5%\n"
     ]
    }
   ],
   "source": [
    "\n",
    "# Set K# Set K\n",
    "K=20\n",
    "\n",
    "predictionsKNN  = getPredictionsKNN(trainingSet, testSet, K)\n",
    "accuracy = getAccuracy(testSet, predictionsKNN)\n",
    "print('KNN Classifier, K = {0}'.format(K))\n",
    "print('KNN Accuracy: {0}%'.format(accuracy))\n",
    "predictionsWeightedKNN = getPredictionsWeightedKNN(trainingSet, testSet, K)\n",
    "weighted_accuracy = getAccuracy(testSet, predictionsWeightedKNN)\n",
    "print('\\n\\nWeighted KNN Classifier, K = {0}'.format(K))\n",
    "print('Weighted KNN Accuracy: {0}%'.format(weighted_accuracy))"
   ]
  }
 ],
 "metadata": {
  "kernelspec": {
   "display_name": "Python 3",
   "language": "python",
   "name": "python3"
  },
  "language_info": {
   "codemirror_mode": {
    "name": "ipython",
    "version": 3
   },
   "file_extension": ".py",
   "mimetype": "text/x-python",
   "name": "python",
   "nbconvert_exporter": "python",
   "pygments_lexer": "ipython3",
   "version": "3.6.6"
  }
 },
 "nbformat": 4,
 "nbformat_minor": 2
}
