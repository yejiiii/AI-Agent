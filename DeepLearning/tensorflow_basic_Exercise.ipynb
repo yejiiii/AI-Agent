{
 "cells": [
  {
   "cell_type": "markdown",
   "metadata": {},
   "source": [
    "## Library Import"
   ]
  },
  {
   "cell_type": "code",
   "execution_count": 2,
   "metadata": {},
   "outputs": [
    {
     "name": "stdout",
     "output_type": "stream",
     "text": [
      "1.9.0\n"
     ]
    }
   ],
   "source": [
    "import tensorflow as tf\n",
    "print(tf.__version__)\n",
    "\n",
    "import matplotlib.pyplot as plt \n",
    "% matplotlib inline"
   ]
  },
  {
   "cell_type": "markdown",
   "metadata": {},
   "source": [
    "## Hellow World"
   ]
  },
  {
   "cell_type": "code",
   "execution_count": 3,
   "metadata": {},
   "outputs": [
    {
     "name": "stdout",
     "output_type": "stream",
     "text": [
      "Hello World!\n"
     ]
    }
   ],
   "source": [
    "h=\"Hello \"\n",
    "w=\"World!\"\n",
    "hw=h+w\n",
    "print(hw)"
   ]
  },
  {
   "cell_type": "code",
   "execution_count": 8,
   "metadata": {},
   "outputs": [
    {
     "name": "stdout",
     "output_type": "stream",
     "text": [
      "Tensor(\"Const_7:0\", shape=(), dtype=string)\n",
      "Tensor(\"add_2:0\", shape=(), dtype=string)\n"
     ]
    }
   ],
   "source": [
    "h=tf.constant(\"Hello\")\n",
    "w=tf.constant(\" World!\")\n",
    "hw=h+w\n",
    "print(hw)"
   ]
  },
  {
   "cell_type": "code",
   "execution_count": 9,
   "metadata": {},
   "outputs": [
    {
     "name": "stdout",
     "output_type": "stream",
     "text": [
      "b'Hello World!'\n"
     ]
    }
   ],
   "source": [
    "h=tf.constant(\"Hello\")\n",
    "w=tf.constant(\" World!\")\n",
    "hw=h+w\n",
    "\n",
    "with tf.Session() as sess:\n",
    "    ans=sess.run(hw)\n",
    "\n",
    "print(ans)"
   ]
  },
  {
   "cell_type": "code",
   "execution_count": 10,
   "metadata": {},
   "outputs": [
    {
     "name": "stdout",
     "output_type": "stream",
     "text": [
      "b'23'\n"
     ]
    }
   ],
   "source": [
    "h=tf.constant(\"2\") #\"\"붙이면 string\n",
    "w=tf.constant(\"3\")\n",
    "hw=h+w\n",
    "\n",
    "with tf.Session() as sess:\n",
    "    ans=sess.run(hw)\n",
    "\n",
    "print(ans)"
   ]
  },
  {
   "cell_type": "code",
   "execution_count": 12,
   "metadata": {},
   "outputs": [
    {
     "name": "stdout",
     "output_type": "stream",
     "text": [
      "72\n"
     ]
    }
   ],
   "source": [
    "x=tf.constant(8)\n",
    "y=tf.constant(9)\n",
    "z=tf.multiply(x,y)\n",
    "\n",
    "sess=tf.Session()\n",
    "out_z=sess.run(z)\n",
    "\n",
    "print(out_z)"
   ]
  },
  {
   "cell_type": "markdown",
   "metadata": {},
   "source": [
    "## First graph\n"
   ]
  },
  {
   "cell_type": "code",
   "execution_count": 30,
   "metadata": {},
   "outputs": [
    {
     "name": "stdout",
     "output_type": "stream",
     "text": [
      "out =  5\n"
     ]
    }
   ],
   "source": [
    "a=tf.constant(5)\n",
    "b=tf.constant(2)\n",
    "c=tf.constant(3)\n",
    "d=tf.multiply(a,b)\n",
    "e=tf.add(c,b)\n",
    "f=tf.subtract(d,e)\n",
    "sess=tf.Session()\n",
    "outs=sess.run(f)\n",
    "sess.close()\n",
    "print(\"out = \",outs)"
   ]
  },
  {
   "cell_type": "markdown",
   "metadata": {},
   "source": [
    "## Exercise 1 Make a Graph\n",
    "![graph](./graph.PNG)"
   ]
  },
  {
   "cell_type": "markdown",
   "metadata": {},
   "source": [
    "### graph A\n",
    "#### a = 5, b = 2"
   ]
  },
  {
   "cell_type": "code",
   "execution_count": 57,
   "metadata": {},
   "outputs": [
    {
     "name": "stdout",
     "output_type": "stream",
     "text": [
      "out =  -5.666666666666667\n"
     ]
    }
   ],
   "source": [
    "a=tf.constant(5)\n",
    "b=tf.constant(2)\n",
    "c=tf.multiply(a,b)\n",
    "d=tf.add(a,b)\n",
    "e=tf.subtract(d,c)\n",
    "f=tf.add(c,d)\n",
    "g=tf.truediv(f,e)\n",
    "sess=tf.Session()\n",
    "out=sess.run(g)\n",
    "sess.close()\n",
    "print(\"out = \",out)"
   ]
  },
  {
   "cell_type": "markdown",
   "metadata": {},
   "source": [
    "### graph B\n",
    "#### a = 5, b = 2"
   ]
  },
  {
   "cell_type": "code",
   "execution_count": 5,
   "metadata": {},
   "outputs": [
    {
     "name": "stdout",
     "output_type": "stream",
     "text": [
      "out =  2.5440211108893696\n"
     ]
    }
   ],
   "source": [
    "a=tf.constant(5,dtype=tf.float64)\n",
    "b=tf.constant(2,dtype=tf.float64)\n",
    "c=tf.multiply(a,b)\n",
    "d=tf.sin(c)\n",
    "e=tf.subtract(b,d)\n",
    "sess=tf.Session()\n",
    "out=sess.run(e)\n",
    "sess.close()\n",
    "print(\"out = \",out)"
   ]
  },
  {
   "cell_type": "markdown",
   "metadata": {},
   "source": [
    "## Construction and managing our graph"
   ]
  },
  {
   "cell_type": "code",
   "execution_count": 8,
   "metadata": {},
   "outputs": [
    {
     "name": "stdout",
     "output_type": "stream",
     "text": [
      "<tensorflow.python.framework.ops.Graph object at 0x7ff6e5d02d30>\n",
      "<tensorflow.python.framework.ops.Graph object at 0x7ff6e5d22208>\n"
     ]
    }
   ],
   "source": [
    "print(tf.get_default_graph())\n",
    "\n",
    "g = tf.Graph()\n",
    "print(g)"
   ]
  },
  {
   "cell_type": "code",
   "execution_count": 74,
   "metadata": {},
   "outputs": [
    {
     "name": "stdout",
     "output_type": "stream",
     "text": [
      "False\n",
      "True\n"
     ]
    }
   ],
   "source": [
    "a = tf.constant(5) \n",
    "\n",
    "print(a.graph is g)\n",
    "print(a.graph is tf.get_default_graph())"
   ]
  },
  {
   "cell_type": "code",
   "execution_count": 75,
   "metadata": {},
   "outputs": [
    {
     "name": "stdout",
     "output_type": "stream",
     "text": [
      "True\n",
      "False\n",
      "True\n"
     ]
    }
   ],
   "source": [
    "g1 = tf.get_default_graph() \n",
    "g2 = tf.Graph() \n",
    "\n",
    "print(g1 is tf.get_default_graph())\n",
    "\n",
    "with g2.as_default(): \n",
    "    print(g1 is tf.get_default_graph())\n",
    "\n",
    "print(g1 is tf.get_default_graph())"
   ]
  },
  {
   "cell_type": "markdown",
   "metadata": {},
   "source": [
    "## Fetches"
   ]
  },
  {
   "cell_type": "code",
   "execution_count": 76,
   "metadata": {},
   "outputs": [
    {
     "name": "stdout",
     "output_type": "stream",
     "text": [
      "outs = 5\n"
     ]
    }
   ],
   "source": [
    "#our first graph\n",
    "a = tf.constant(5) \n",
    "b = tf.constant(2)\n",
    "c = tf.constant(3)\n",
    "d = tf.multiply(a,b) \n",
    "e = tf.add(c,b) \n",
    "f = tf.subtract(d,e) \n",
    "sess = tf.Session() \n",
    "outs = sess.run(f) \n",
    "sess.close() \n",
    "print(\"outs = {}\".format(outs))"
   ]
  },
  {
   "cell_type": "code",
   "execution_count": 77,
   "metadata": {},
   "outputs": [
    {
     "name": "stdout",
     "output_type": "stream",
     "text": [
      "outs = [5, 2, 3, 10, 5, 5]\n",
      "<class 'numpy.int32'>\n"
     ]
    }
   ],
   "source": [
    "with tf.Session() as sess:\n",
    "    fetches = [a,b,c,d,e,f]\n",
    "    outs = sess.run(fetches) \n",
    "\n",
    "print(\"outs = {}\".format(outs)) #전체그래프에 대한 점을 보여줌\n",
    "print(type(outs[0]))"
   ]
  },
  {
   "cell_type": "markdown",
   "metadata": {},
   "source": [
    "## Nodes are operations, edges are Tensor objects"
   ]
  },
  {
   "cell_type": "code",
   "execution_count": 78,
   "metadata": {},
   "outputs": [
    {
     "name": "stdout",
     "output_type": "stream",
     "text": [
      "Tensor(\"Const_142:0\", shape=(), dtype=float32)\n"
     ]
    }
   ],
   "source": [
    "c = tf.constant(4.0)\n",
    "print(c)"
   ]
  },
  {
   "cell_type": "markdown",
   "metadata": {},
   "source": [
    "## Data types"
   ]
  },
  {
   "cell_type": "code",
   "execution_count": 79,
   "metadata": {},
   "outputs": [
    {
     "name": "stdout",
     "output_type": "stream",
     "text": [
      "Tensor(\"Const_143:0\", shape=(), dtype=float64)\n",
      "<dtype: 'float64'>\n"
     ]
    }
   ],
   "source": [
    "c = tf.constant(4.0, dtype=tf.float64)\n",
    "print(c)\n",
    "print(c.dtype)"
   ]
  },
  {
   "cell_type": "code",
   "execution_count": 82,
   "metadata": {},
   "outputs": [
    {
     "name": "stdout",
     "output_type": "stream",
     "text": [
      "<dtype: 'float32'>\n",
      "<dtype: 'int64'>\n",
      "[1 2 3]\n"
     ]
    }
   ],
   "source": [
    "x = tf.constant([1,2,3],name='x',dtype=tf.float32) \n",
    "print(x.dtype)\n",
    "x = tf.cast(x,tf.int64)\n",
    "print(x.dtype)\n",
    "\n",
    "sess=tf.Session()\n",
    "out=sess.run(x)\n",
    "sess.close()\n",
    "print(out)"
   ]
  },
  {
   "cell_type": "markdown",
   "metadata": {},
   "source": [
    "## Tensor arrays and Shapes"
   ]
  },
  {
   "cell_type": "code",
   "execution_count": 85,
   "metadata": {},
   "outputs": [
    {
     "name": "stdout",
     "output_type": "stream",
     "text": [
      "Python List input: (2, 3)\n",
      "[[1 2 3]\n",
      " [4 5 6]]\n",
      "3d Numpy array input: (2, 2, 3)\n"
     ]
    }
   ],
   "source": [
    "import numpy as np \n",
    "\n",
    "c = tf.constant([[1,2,3],\n",
    "                 [4,5,6]]) \n",
    "print(\"Python List input: {}\".format(c.get_shape()))\n",
    "\n",
    "sess=tf.Session()\n",
    "out=sess.run(c)\n",
    "sess.close()\n",
    "print(out)\n",
    "\n",
    "c = tf.constant(np.array([\n",
    "                 [[1,2,3], \n",
    "                  [4,5,6]], \n",
    "\n",
    "                 [[1,1,1], \n",
    "                  [2,2,2]]\n",
    "                 ])) \n",
    "\n",
    "print(\"3d Numpy array input: {}\".format(c.get_shape()))"
   ]
  },
  {
   "cell_type": "code",
   "execution_count": 87,
   "metadata": {},
   "outputs": [
    {
     "name": "stdout",
     "output_type": "stream",
     "text": [
      "(1, 50000)\n"
     ]
    },
    {
     "data": {
      "image/png": "[encoded data removed]",
      "text/plain": [
       "<Figure size 1080x288 with 3 Axes>"
      ]
     },
     "metadata": {},
     "output_type": "display_data"
    }
   ],
   "source": [
    "sess = tf.InteractiveSession()\n",
    "\n",
    "# === Noramal and Truncated normal distributions ===\n",
    "mean = 0\n",
    "std = 1\n",
    "x_normal = tf.random_normal((1,50000),mean,std).eval()\n",
    "x_truncated = tf.truncated_normal((1,50000),mean,std).eval()\n",
    "\n",
    "# === Uniform distribution\n",
    "minval = -2 \n",
    "maxval = 2\n",
    "x_uniform = tf.random_uniform((1,50000),minval,maxval).eval()\n",
    "\n",
    "sess.close()\n",
    "\n",
    "\n",
    "def simpleaxis(ax):\n",
    "    ax.spines['top'].set_visible(False)\n",
    "    ax.spines['right'].set_visible(False)\n",
    "    ax.get_xaxis().tick_bottom()\n",
    "    ax.get_yaxis().tick_left()\n",
    "#     ax.set_ylim([-1.1,1.1])\n",
    "    ax.tick_params(axis='both', which='major', labelsize=15)\n",
    "    \n",
    "def get_axis_limits(ax, scale=.8):\n",
    "    return ax.get_xlim()[1]*scale, ax.get_ylim()[1]*scale\n",
    "\n",
    "f,axarr = plt.subplots(1,3,figsize=[15,4],sharey=True)\n",
    "titles = ['Normal','Truncated Normal','Uniform']\n",
    "\n",
    "print(x_normal.shape)\n",
    "for i,x in enumerate([x_normal,x_truncated,x_uniform]):\n",
    "    ax = axarr[i]\n",
    "    ax.hist(x[0],bins=100,color='b',alpha=0.4)\n",
    "    ax.set_title(titles[i],fontsize=20)\n",
    "    ax.set_xlabel('Values',fontsize=20)\n",
    "    ax.set_xlim([-5,5])\n",
    "    ax.set_ylim([0,1800])\n",
    "    \n",
    "    simpleaxis(ax)\n",
    "    \n",
    "    \n",
    "axarr[0].set_ylabel('Frequency',fontsize=20)\n",
    "plt.suptitle('Initialized values',fontsize=30, y=1.15)\n",
    "\n",
    "\n",
    "for ax,letter in zip(axarr,['A','B','C']):\n",
    "    simpleaxis(ax)\n",
    "    ax.annotate(letter, xy=get_axis_limits(ax),fontsize=35)\n",
    "\n",
    "plt.tight_layout()\n",
    "\n",
    "plt.savefig('histograms.png', bbox_inches='tight', format='png', dpi=200, pad_inches=0,transparent=True)\n",
    "\n",
    "plt.show()"
   ]
  },
  {
   "cell_type": "code",
   "execution_count": 88,
   "metadata": {},
   "outputs": [
    {
     "name": "stdout",
     "output_type": "stream",
     "text": [
      "The content of 'c':\n",
      " [0. 1. 2. 3. 4.]\n",
      "\n"
     ]
    }
   ],
   "source": [
    "sess = tf.InteractiveSession()\n",
    "c = tf.linspace(0.0, 4.0, 5) #start, stop, numbering()\n",
    "print(\"The content of 'c':\\n {}\\n\".format(c.eval())) #Session run대신 eval로\n",
    "sess.close()"
   ]
  },
  {
   "cell_type": "markdown",
   "metadata": {},
   "source": [
    "## Matrix multiplication"
   ]
  },
  {
   "cell_type": "code",
   "execution_count": 95,
   "metadata": {},
   "outputs": [
    {
     "name": "stdout",
     "output_type": "stream",
     "text": [
      "(2, 3)\n",
      "(3,)\n",
      "(3, 1)\n",
      "[[1 2 3]\n",
      " [4 5 6]]\n",
      "[[1]\n",
      " [0]\n",
      " [1]]\n",
      "matmul result:\n",
      " [[ 4]\n",
      " [10]]\n"
     ]
    }
   ],
   "source": [
    "A = tf.constant([ [1,2,3],\n",
    "                  [4,5,6] ])\n",
    "print(A.get_shape()) #tensorflow shape() 대신 get_shape()\n",
    "\n",
    "x = tf.constant([1,0,1])\n",
    "print(x.get_shape())\n",
    "\n",
    "x = tf.expand_dims(x,1)\n",
    "print(x.get_shape())\n",
    "\n",
    "b = tf.matmul(A,x)\n",
    "\n",
    "sess = tf.InteractiveSession()\n",
    "print(A.eval())\n",
    "print(x.eval())\n",
    "print('matmul result:\\n {}'.format(b.eval()))\n",
    "sess.close()"
   ]
  },
  {
   "cell_type": "markdown",
   "metadata": {},
   "source": [
    "## Names"
   ]
  },
  {
   "cell_type": "code",
   "execution_count": 96,
   "metadata": {},
   "outputs": [
    {
     "name": "stdout",
     "output_type": "stream",
     "text": [
      "c:0\n",
      "c_1:0\n",
      "c_2:0\n"
     ]
    }
   ],
   "source": [
    "with tf.Graph().as_default():\n",
    "    c1 = tf.constant(4,dtype=tf.float64,name='c') \n",
    "    c2 = tf.constant(4,dtype=tf.int32,name='c') \n",
    "    c3 = tf.constant(4,dtype=tf.int32,name='c') \n",
    "print(c1.name)\n",
    "print(c2.name)\n",
    "print(c3.name)"
   ]
  },
  {
   "cell_type": "markdown",
   "metadata": {},
   "source": [
    "## Name Scopes"
   ]
  },
  {
   "cell_type": "code",
   "execution_count": 98,
   "metadata": {},
   "outputs": [
    {
     "name": "stdout",
     "output_type": "stream",
     "text": [
      "c:0\n",
      "prefix_name/c:0\n",
      "prefix_name/c_1:0\n",
      "Tensor(\"prefix_name/c:0\", shape=(), dtype=int32)\n",
      "Tensor(\"prefix_name/c_1:0\", shape=(), dtype=float64)\n"
     ]
    }
   ],
   "source": [
    "with tf.Graph().as_default():\n",
    "    c1 = tf.constant(4,dtype=tf.float64,name='c') \n",
    "    with tf.name_scope(\"prefix_name\"):\n",
    "        c2 = tf.constant(4,dtype=tf.int32,name='c') \n",
    "        c3 = tf.constant(4,dtype=tf.float64,name='c')\n",
    "\n",
    "print(c1.name)\n",
    "print(c2.name)\n",
    "print(c3.name)\n",
    "\n",
    "print(c2)\n",
    "print(c3)"
   ]
  },
  {
   "cell_type": "markdown",
   "metadata": {},
   "source": [
    "## Variables"
   ]
  },
  {
   "cell_type": "code",
   "execution_count": 100,
   "metadata": {},
   "outputs": [
    {
     "name": "stdout",
     "output_type": "stream",
     "text": [
      "pre run: \n",
      "<tf.Variable 'var_1:0' shape=(1, 5) dtype=float32_ref>\n",
      "[[ 2.2132409  0.9806119  0.7213672 -1.5998876 -1.0020298]]\n",
      "\n",
      "post run: \n",
      "[[-0.1485797  -0.15691213 -1.5402303   0.52904624  1.3732673 ]]\n"
     ]
    }
   ],
   "source": [
    "init_val = tf.random_normal((1,5),0,1)\n",
    "var = tf.Variable(init_val, name='var') \n",
    "print(\"pre run: \\n{}\".format(var))\n",
    "\n",
    "init = tf.global_variables_initializer()\n",
    "with tf.Session() as sess:\n",
    "    sess.run(init)\n",
    "    post_var = sess.run(var)\n",
    "    print(init_val.eval())\n",
    "\n",
    "print(\"\\npost run: \\n{}\".format(post_var))"
   ]
  },
  {
   "cell_type": "markdown",
   "metadata": {},
   "source": [
    "## New variables are created each time"
   ]
  },
  {
   "cell_type": "code",
   "execution_count": 23,
   "metadata": {},
   "outputs": [
    {
     "name": "stdout",
     "output_type": "stream",
     "text": [
      "pre run: \n",
      "<tf.Variable 'var_1:0' shape=(1, 5) dtype=float32_ref>\n",
      "\n",
      "post run: \n",
      "[[ 1.64751    -0.863329    0.62202734  2.369146   -0.6367952 ]]\n"
     ]
    }
   ],
   "source": [
    "init_valinit_val = tf.random_normal((1,5),0,1)\n",
    "var = tf.Variable(init_val, name='var') \n",
    "print(\"pre run: \\n{}\".format(var))\n",
    "\n",
    "init = tf.global_variables_initializer()\n",
    "with tf.Session() as sess:\n",
    "    sess.run(init)\n",
    "    post_var = sess.run(var)\n",
    "\n",
    "print(\"\\npost run: \\n{}\".format(post_var))"
   ]
  },
  {
   "cell_type": "markdown",
   "metadata": {},
   "source": [
    "## Placeholders"
   ]
  },
  {
   "cell_type": "code",
   "execution_count": 111,
   "metadata": {},
   "outputs": [
    {
     "name": "stdout",
     "output_type": "stream",
     "text": [
      "outs = 4.866960525512695\n"
     ]
    }
   ],
   "source": [
    "x_data = np.random.randn(5,10) \n",
    "w_data = np.random.randn(10,1) \n",
    "\n",
    "with tf.Graph().as_default():\n",
    "    x = tf.placeholder(tf.float32,shape=(5,10))\n",
    "    w = tf.placeholder(tf.float32,shape=(10,1))\n",
    "    b = tf.fill((5,1),-1.) \n",
    "    xw = tf.matmul(x,w)\n",
    "\n",
    "    xwb = xw + b\n",
    "    s = tf.reduce_max(xwb)\n",
    "    \n",
    "    with tf.Session() as sess:\n",
    "        outs = sess.run(s,feed_dict={x: x_data,w: w_data}) #placeholder, x,w의 데이터를 대신 담아줌\n",
    "print(\"outs = {}\".format(outs))"
   ]
  }
 ],
 "metadata": {
  "kernelspec": {
   "display_name": "Python 3",
   "language": "python",
   "name": "python3"
  },
  "language_info": {
   "codemirror_mode": {
    "name": "ipython",
    "version": 3
   },
   "file_extension": ".py",
   "mimetype": "text/x-python",
   "name": "python",
   "nbconvert_exporter": "python",
   "pygments_lexer": "ipython3",
   "version": "3.6.6"
  }
 },
 "nbformat": 4,
 "nbformat_minor": 2
}
