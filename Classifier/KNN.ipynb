{
 "cells": [
  {
   "cell_type": "markdown",
   "metadata": {},
   "source": [
    "# Load Packages"
   ]
  },
  {
   "cell_type": "code",
   "execution_count": 1,
   "metadata": {},
   "outputs": [],
   "source": [
    "import numpy as np\n",
    "import os\n",
    "from collections import Counter\n",
    "from classifier_utils import *"
   ]
  },
  {
   "cell_type": "markdown",
   "metadata": {},
   "source": [
    "# KNN Classifier"
   ]
  },
  {
   "cell_type": "code",
   "execution_count": 2,
   "metadata": {},
   "outputs": [],
   "source": [
    "# get most common class in the instances\n",
    "def vote(neighbors):\n",
    "    class_counter = Counter()\n",
    "    for neighbor in neighbors:\n",
    "        class_counter[neighbor[-1]] += 1 \n",
    "    #class_counter example format: Counter({0.0: 4, 1.0: 1})\n",
    "    #class_counter.most_common return: key, value\n",
    "    return class_counter.most_common(1)[0][0]"
   ]
  },
  {
   "cell_type": "code",
   "execution_count": 3,
   "metadata": {},
   "outputs": [],
   "source": [
    "# get distance between 2 instances\n",
    "def distance(instance1, instance2):\n",
    "    # just in case, if the instances are lists or tuples:\n",
    "    instance1 = np.array(instance1) \n",
    "    instance2 = np.array(instance2)\n",
    "    # 2-norm\n",
    "    return np.linalg.norm(instance1 - instance2)"
   ]
  },
  {
   "cell_type": "code",
   "execution_count": 4,
   "metadata": {},
   "outputs": [],
   "source": [
    "# get neighbors\n",
    "def getNeighbors(trainingSet, \n",
    "                  testInstance, \n",
    "                  k, \n",
    "                  distance=distance):\n",
    "    distances = []\n",
    "    # for each instances in trainingSet\n",
    "    for index in range(len(trainingSet)):\n",
    "        # get distance from testInstance\n",
    "        dist = distance(testInstance, trainingSet[index])\n",
    "        # put (instance, distance, class of instance) into distances array\n",
    "        distances.append((trainingSet[index], dist, trainingSet[index][-1]))\n",
    "    \n",
    "    # sort distances\n",
    "    distances.sort(key=lambda x: x[1])\n",
    "    # get k neighbors\n",
    "    neighbors = distances[:k]\n",
    "    return neighbors"
   ]
  },
  {
   "cell_type": "markdown",
   "metadata": {},
   "source": [
    "## KNN Classifier without Weights"
   ]
  },
  {
   "cell_type": "code",
   "execution_count": 5,
   "metadata": {},
   "outputs": [],
   "source": [
    "def getPredictionsKNN(trainingSet, testSet, k):\n",
    "    predictions = []\n",
    "    # for each instances(vectors) in testSet\n",
    "    for i in range(len(testSet)):\n",
    "        # get K neighbors from trainingSet\n",
    "        neighbors = getNeighbors(trainingSet, testSet[i], k, distance=distance)\n",
    "        # get most common class in the neighbors\n",
    "        prediction = vote(neighbors)\n",
    "        # put result in the predictions\n",
    "        predictions.append(prediction)\n",
    "        \n",
    "    return predictions"
   ]
  },
  {
   "cell_type": "markdown",
   "metadata": {},
   "source": [
    "## KNN Classifier with Weights"
   ]
  },
  {
   "cell_type": "code",
   "execution_count": 6,
   "metadata": {},
   "outputs": [],
   "source": [
    "def function_i(label):\n",
    "    if label == 1:\n",
    "        return 1\n",
    "    elif label == 0:\n",
    "        return -1\n",
    "\n",
    "def getPredictionsWeightedKNN(trainingSet, testSet, k):\n",
    "    predictions = []\n",
    "    # for each instances(vectors) in testSet\n",
    "    for i in range(len(testSet)):\n",
    "        # get K neighbors from trainingSet\n",
    "        neighbors = getNeighbors(trainingSet, testSet[i], k, distance=distance)\n",
    "\n",
    "        # Weighted KNN\n",
    "        # get W & # get f_j\n",
    "        weights = []\n",
    "        fi_wi = []\n",
    "        for neighbor in neighbors:\n",
    "            # set d_ij(distance)\n",
    "            d_ij = neighbor[1]\n",
    "            label = neighbor[2]\n",
    "            f_i = function_i(label)\n",
    "            \n",
    "            # (1) Let w_i = (1 / d_ij)\n",
    "\n",
    "            \n",
    "            # (2) f_i * w_i\n",
    "\n",
    "            \n",
    "        # (3) W = Sum([w_i])\n",
    "        \n",
    "        \n",
    "        # (4) f_j = Sum(fi_wi) / W\n",
    "\n",
    "\n",
    "        # determine label by f_j\n",
    "        if f_j <= 0:\n",
    "            prediction = 0\n",
    "        elif f_j > 0:\n",
    "            prediction = 1\n",
    "\n",
    "        # put result in the predictions\n",
    "        predictions.append(prediction)\n",
    "        \n",
    "    return predictions"
   ]
  },
  {
   "cell_type": "markdown",
   "metadata": {},
   "source": [
    "# Load DataSet and Split into trainSet, testSet"
   ]
  },
  {
   "cell_type": "code",
   "execution_count": 7,
   "metadata": {},
   "outputs": [
    {
     "name": "stdout",
     "output_type": "stream",
     "text": [
      "Split 768 rows into train=514 and test=254 rows\n"
     ]
    }
   ],
   "source": [
    "# Load csv data\n",
    "# Current directory\n",
    "filePath = './data.csv'\n",
    "dataset = loadCsv(filePath)\n",
    "\n",
    "# Split dataset into trainingSet and testSet\n",
    "splitRatio = 0.67\n",
    "trainingSet, testSet = splitDataset(dataset, splitRatio)\n",
    "print('Split {0} rows into train={1} and test={2} rows'.format(len(dataset), len(trainingSet), len(testSet)))"
   ]
  },
  {
   "cell_type": "markdown",
   "metadata": {},
   "source": [
    "# Run KNN Classifier"
   ]
  },
  {
   "cell_type": "markdown",
   "metadata": {},
   "source": [
    "## 1-NN Classifier, when K = 1"
   ]
  },
  {
   "cell_type": "code",
   "execution_count": 8,
   "metadata": {},
   "outputs": [
    {
     "name": "stdout",
     "output_type": "stream",
     "text": [
      "KNN Classifier, K = 1\n",
      "KNN Accuracy: 67.71653543307087%\n"
     ]
    }
   ],
   "source": [
    "# Set K\n",
    "K = 1\n",
    "\n",
    "predictionsKNN = getPredictionsKNN(trainingSet, testSet, K)\n",
    "accuracy = getAccuracy(testSet, predictionsKNN)\n",
    "print('KNN Classifier, K = {0}'.format(K))\n",
    "print('KNN Accuracy: {0}%'.format(accuracy))"
   ]
  },
  {
   "cell_type": "markdown",
   "metadata": {},
   "source": [
    "## 1-NN Classifier with Weights, when K = 1"
   ]
  },
  {
   "cell_type": "code",
   "execution_count": 9,
   "metadata": {},
   "outputs": [
    {
     "name": "stdout",
     "output_type": "stream",
     "text": [
      "\n",
      "\n",
      "Weighted KNN Classifier, K = 1\n",
      "Weighted KNN Accuracy: 67.71653543307087%\n"
     ]
    }
   ],
   "source": [
    "predictionsWeightedKNN = getPredictionsWeightedKNN(trainingSet, testSet, K)\n",
    "weighted_accuracy = getAccuracy(testSet, predictionsWeightedKNN)\n",
    "print('\\n\\nWeighted KNN Classifier, K = {0}'.format(K))\n",
    "print('Weighted KNN Accuracy: {0}%'.format(weighted_accuracy))"
   ]
  },
  {
   "cell_type": "markdown",
   "metadata": {},
   "source": [
    "## 20-NN Classifier"
   ]
  },
  {
   "cell_type": "code",
   "execution_count": 10,
   "metadata": {},
   "outputs": [
    {
     "name": "stdout",
     "output_type": "stream",
     "text": [
      "KNN Classifier, K = 20\n",
      "KNN Accuracy: 74.40944881889764%\n",
      "\n",
      "\n",
      "Weighted KNN Classifier, K = 20\n",
      "Weighted KNN Accuracy: 74.80314960629921%\n"
     ]
    }
   ],
   "source": [
    "# Set K\n",
    "K = 20\n",
    "\n",
    "predictionsKNN = getPredictionsKNN(trainingSet, testSet, K)\n",
    "accuracy = getAccuracy(testSet, predictionsKNN)\n",
    "print('KNN Classifier, K = {0}'.format(K))\n",
    "print('KNN Accuracy: {0}%'.format(accuracy))\n",
    "predictionsWeightedKNN = getPredictionsWeightedKNN(trainingSet, testSet, K)\n",
    "weighted_accuracy = getAccuracy(testSet, predictionsWeightedKNN)\n",
    "print('\\n\\nWeighted KNN Classifier, K = {0}'.format(K))\n",
    "print('Weighted KNN Accuracy: {0}%'.format(weighted_accuracy))"
   ]
  },
  {
   "cell_type": "code",
   "execution_count": null,
   "metadata": {},
   "outputs": [],
   "source": []
  }
 ],
 "metadata": {
  "kernelspec": {
   "display_name": "Python [default]",
   "language": "python",
   "name": "python3"
  },
  "language_info": {
   "codemirror_mode": {
    "name": "ipython",
    "version": 3
   },
   "file_extension": ".py",
   "mimetype": "text/x-python",
   "name": "python",
   "nbconvert_exporter": "python",
   "pygments_lexer": "ipython3",
   "version": "3.6.5"
  }
 },
 "nbformat": 4,
 "nbformat_minor": 2
}
