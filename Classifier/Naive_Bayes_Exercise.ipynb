{
 "cells": [
  {
   "cell_type": "markdown",
   "metadata": {},
   "source": [
    "![DataSet](./DataSet.png)\n",
    "\n",
    "# Define DataSet"
   ]
  },
  {
   "cell_type": "code",
   "execution_count": 1,
   "metadata": {},
   "outputs": [],
   "source": [
    "# age, income, student, credit_rating, buys_computer\n",
    "trainSet = [\n",
    "    [\"<=30\", \"high\", \"no\", \"fair\", \"no\"],\n",
    "    [\"<=30\", \"high\", \"no\", \"excellent\", \"no\"],\n",
    "    [\"31...40\", \"high\", \"no\", \"fair\", \"yes\"],\n",
    "    [\">40\", \"high\", \"no\", \"fair\", \"yes\"],\n",
    "    [\">40\", \"medium\", \"yes\", \"fair\", \"yes\"],\n",
    "    [\">40\", \"low\", \"yes\", \"excellent\", \"no\"],\n",
    "    [\"31...40\", \"low\", \"yes\", \"excellent\", \"yes\"],\n",
    "    [\"<=30\", \"medium\", \"no\", \"fair\", \"no\"],\n",
    "    [\"<=30\", \"low\", \"yes\", \"fair\", \"yes\"],\n",
    "    [\">40\", \"medium\", \"yes\", \"fair\", \"yes\"],\n",
    "    [\"<=30\", \"medium\", \"yes\", \"excellent\", \"yes\"],\n",
    "    [\"31...40\", \"medium\", \"no\", \"excellent\", \"yes\"],\n",
    "    [\"31...40\", \"high\", \"yes\", \"fair\", \"yes\"],\n",
    "    [\">40\", \"medium\", \"no\", \"excellent\", \"no\"]\n",
    "]"
   ]
  },
  {
   "cell_type": "code",
   "execution_count": 2,
   "metadata": {},
   "outputs": [],
   "source": [
    "# get number of class in the dataSet\n",
    "def countClass(classValue, dataSet):\n",
    "    n = 0\n",
    "    for instance in dataSet:\n",
    "        if (1):\n",
    "            n += 1\n",
    "            \n",
    "    return n\n",
    "\n",
    "# get number of value in i^th column\n",
    "def count(classValue, i, value, dataSet):\n",
    "    n = 0\n",
    "    for instance in dataSet:\n",
    "        # fill the blank (1) & (2)\n",
    "        if (1) and (2):\n",
    "            n += 1\n",
    "            \n",
    "    return n\n",
    "\n",
    "def naiveBayesPrint(classValue):\n",
    "    # print\n",
    "    print(\"\\n\")\n",
    "    print(\"P(\" + classValue + \"|X) = P(\" + classValue + \") * P(X|\" + classValue + \") = \")\n",
    "    print(\"P(\" + classValue + \")\", end='')\n",
    "    for x in X:\n",
    "        print(\" * P(\" + x + \"|\" + classValue + \")\", end='')\n",
    "    print()\n",
    "    \n",
    "\n",
    "def getPredictionBayes(dataSet, X):\n",
    "    classProb = {\n",
    "        'yes': 1,\n",
    "        'no': 1\n",
    "    }\n",
    "    numberOfData = len(dataSet)\n",
    "    \n",
    "    for classValue in classProb.keys():\n",
    "        probability = 1\n",
    "        \n",
    "        naiveBayesPrint(classValue)\n",
    "        \n",
    "        # P(Yes) or P(No)\n",
    "        classCount = countClass(classValue, dataSet)\n",
    "        # fill the blank (3)\n",
    "        p = (3)\n",
    "        probability *= p\n",
    "        print(\"%.5f\" % p, end='')\n",
    "        \n",
    "        for i in range(len(X)):\n",
    "            value = X[i]\n",
    "            # ex) P(<30|Yes)\n",
    "            \n",
    "            # fill the blank (4)\n",
    "            p = (4)\n",
    "            print(\" * %.5f\" % p, end='')\n",
    "            probability *= p\n",
    "        print(\"\\n = %.5f\" % probability)\n",
    "        \n",
    "        classProb[classValue] = probability\n",
    "    \n",
    "    bestClass, bestProb = None, -1   \n",
    "    for classValue, probability in classProb.items():\n",
    "        if bestClass is None or probability > bestProb:\n",
    "            bestProb = probability\n",
    "            bestClass = classValue\n",
    "        \n",
    "    return bestClass, bestProb"
   ]
  },
  {
   "cell_type": "markdown",
   "metadata": {},
   "source": [
    "# Naive Bayes Clasifier\n",
    "\n",
    "- Let X = [age=\"<=30\", income=\"medium\", student=\"yes\", credit=\"fair\"] => yes / no ?"
   ]
  },
  {
   "cell_type": "code",
   "execution_count": 4,
   "metadata": {},
   "outputs": [
    {
     "name": "stdout",
     "output_type": "stream",
     "text": [
      "Test data\n",
      "X:  ['<=30', 'medium', 'yes', 'fair']\n",
      "\n",
      "\n",
      "P(no|X) = P(no) * P(X|no) = \n",
      "P(no) * P(<=30|no) * P(medium|no) * P(yes|no) * P(fair|no)\n",
      "3.00000 * 4.00000 * 4.00000 * 4.00000 * 4.00000\n",
      " = 768.00000\n",
      "\n",
      "\n",
      "P(yes|X) = P(yes) * P(X|yes) = \n",
      "P(yes) * P(<=30|yes) * P(medium|yes) * P(yes|yes) * P(fair|yes)\n",
      "3.00000 * 4.00000 * 4.00000 * 4.00000 * 4.00000\n",
      " = 768.00000\n",
      "\n",
      "\n",
      "####################################\n",
      "X is classified to \"no\"\n",
      "probability =  768\n",
      "####################################\n"
     ]
    }
   ],
   "source": [
    "X = [\"<=30\", \"medium\", \"yes\", \"fair\"]\n",
    "print(\"Test data\")\n",
    "print(\"X: \", X)\n",
    "\n",
    "label, probability = getPredictionBayes(trainSet, X)\n",
    "print(\"\\n\\n####################################\")\n",
    "print(\"X is classified to \\\"\" + label + \"\\\"\")\n",
    "print(\"probability = \", probability)\n",
    "print(\"####################################\")"
   ]
  }
 ],
 "metadata": {
  "kernelspec": {
   "display_name": "Python 3",
   "language": "python",
   "name": "python3"
  },
  "language_info": {
   "codemirror_mode": {
    "name": "ipython",
    "version": 3
   },
   "file_extension": ".py",
   "mimetype": "text/x-python",
   "name": "python",
   "nbconvert_exporter": "python",
   "pygments_lexer": "ipython3",
   "version": "3.5.4"
  }
 },
 "nbformat": 4,
 "nbformat_minor": 2
}
