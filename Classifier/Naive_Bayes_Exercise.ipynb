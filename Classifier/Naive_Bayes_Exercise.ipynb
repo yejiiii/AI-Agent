{
 "cells": [
  {
   "cell_type": "markdown",
   "metadata": {},
   "source": [
    "![DataSet](./DataSet.png)\n",
    "\n",
    "# Define DataSet"
   ]
  },
  {
   "cell_type": "code",
   "execution_count": 1,
   "metadata": {},
   "outputs": [],
   "source": [
    "# age, income, student, credit_rating, buys_computer\n",
    "trainSet = [\n",
    "    [\"<=30\", \"high\", \"no\", \"fair\", \"no\"],\n",
    "    [\"<=30\", \"high\", \"no\", \"excellent\", \"no\"],\n",
    "    [\"31...40\", \"high\", \"no\", \"fair\", \"yes\"],\n",
    "    [\">40\", \"high\", \"no\", \"fair\", \"yes\"],\n",
    "    [\">40\", \"medium\", \"yes\", \"fair\", \"yes\"],\n",
    "    [\">40\", \"low\", \"yes\", \"excellent\", \"no\"],\n",
    "    [\"31...40\", \"low\", \"yes\", \"excellent\", \"yes\"],\n",
    "    [\"<=30\", \"medium\", \"no\", \"fair\", \"no\"],\n",
    "    [\"<=30\", \"low\", \"yes\", \"fair\", \"yes\"],\n",
    "    [\">40\", \"medium\", \"yes\", \"fair\", \"yes\"],\n",
    "    [\"<=30\", \"medium\", \"yes\", \"excellent\", \"yes\"],\n",
    "    [\"31...40\", \"medium\", \"no\", \"excellent\", \"yes\"],\n",
    "    [\"31...40\", \"high\", \"yes\", \"fair\", \"yes\"],\n",
    "    [\">40\", \"medium\", \"no\", \"excellent\", \"no\"]\n",
    "]"
   ]
  },
  {
   "cell_type": "code",
   "execution_count": 2,
   "metadata": {},
   "outputs": [],
   "source": [
    "# get number of class in the dataSet\n",
    "def countClass(classValue, dataSet):\n",
    "    n = 0\n",
    "    for instance in dataSet:\n",
    "        if (1):\n",
    "            n += 1\n",
    "            \n",
    "    return n\n",
    "\n",
    "# get number of value in i^th column\n",
    "def count(classValue, i, value, dataSet):\n",
    "    n = 0\n",
    "    for instance in dataSet:\n",
    "        if (1) and (2):\n",
    "            n += 1\n",
    "            \n",
    "    return n\n",
    "\n",
    "def getPredictionBayes(dataSet, X):\n",
    "    classProb = {\n",
    "        'yes': 1,\n",
    "        'no': 1\n",
    "    }\n",
    "    numberOfData = len(dataSet)\n",
    "    \n",
    "    for classValue in classProb.keys():\n",
    "        probability = 1\n",
    "        \n",
    "        # print\n",
    "        print(\"P(\" + classValue + \"|X) = P(\" + classValue + \") * P(X|\" + classValue + \") = \")\n",
    "        print(\"P(\" + classValue + \")\", end='')\n",
    "        for x in X:\n",
    "            print(\" * P(\" + x + \"|\" + classValue + \")\", end='')\n",
    "        print()\n",
    "        \n",
    "        # P(Yes) or P(No)\n",
    "        classCount = countClass(classValue, dataSet)\n",
    "        p = (3)\n",
    "        probability *= p\n",
    "        print(p, end='')\n",
    "        \n",
    "        for i in range(len(X)):\n",
    "            value = X[i]\n",
    "            # ex) P(<30|Yes)\n",
    "            p = (4)\n",
    "            print(\" * \", p, end='')\n",
    "            probability *= p\n",
    "        print(\"\\n = \", probability)\n",
    "        \n",
    "        classProb[classValue] = probability\n",
    "    \n",
    "    bestClass, bestProb = None, -1\n",
    "    \n",
    "    for classValue, probability in classProb.items():\n",
    "        if (5):\n",
    "            bestProb = probability\n",
    "            bestClass = classValue\n",
    "        \n",
    "    return bestClass, bestProb"
   ]
  },
  {
   "cell_type": "markdown",
   "metadata": {},
   "source": [
    "# Main\n",
    "\n",
    "- Let X = [age=\"<=30\", income=\"medium\", student=\"yes\", credit=\"fair\"] => yes / no ?"
   ]
  },
  {
   "cell_type": "code",
   "execution_count": 3,
   "metadata": {},
   "outputs": [
    {
     "name": "stdout",
     "output_type": "stream",
     "text": [
      "P(yes|X) = P(yes) * P(X|yes) = \n",
      "P(yes) * P(<=30|yes) * P(medium|yes) * P(yes|yes) * P(fair|yes)\n",
      "0.6428571428571429 *  0.2222222222222222 *  0.4444444444444444 *  0.6666666666666666 *  0.6666666666666666\n",
      " =  0.02821869488536155\n",
      "P(no|X) = P(no) * P(X|no) = \n",
      "P(no) * P(<=30|no) * P(medium|no) * P(yes|no) * P(fair|no)\n",
      "0.35714285714285715 *  0.6 *  0.4 *  0.2 *  0.4\n",
      " =  0.006857142857142858\n",
      "\n",
      "X is classified to yes\n",
      "probability =  0.02821869488536155\n"
     ]
    }
   ],
   "source": [
    "def main():\n",
    "    X = [\"<=30\", \"medium\", \"yes\", \"fair\"]\n",
    "    label, probability = getPredictionBayes(trainSet, X)\n",
    "    print()\n",
    "    print(\"X is classified to\", label)\n",
    "    print(\"probability = \", probability)\n",
    "    \n",
    "main()"
   ]
  },
  {
   "cell_type": "code",
   "execution_count": null,
   "metadata": {},
   "outputs": [],
   "source": []
  }
 ],
 "metadata": {
  "kernelspec": {
   "display_name": "Python 3",
   "language": "python",
   "name": "python3"
  },
  "language_info": {
   "codemirror_mode": {
    "name": "ipython",
    "version": 3
   },
   "file_extension": ".py",
   "mimetype": "text/x-python",
   "name": "python",
   "nbconvert_exporter": "python",
   "pygments_lexer": "ipython3",
   "version": "3.6.5"
  }
 },
 "nbformat": 4,
 "nbformat_minor": 2
}
